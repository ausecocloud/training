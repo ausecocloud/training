{
 "cells": [
  {
   "cell_type": "markdown",
   "metadata": {},
   "source": [
    "# From BCCVL to _ecocloud_: further analyses on the modelling data\n",
    "While BCCVL gives you a comprehensive suite of results in your SDM experiment, you might want to do some further analyses that are not included in the BCCVL yet. Here we showcase how you can do some easy data explorations using the data from your SDM. For example, you might be interested in checking:\n",
    "- What is the range and the average of the values of my climatic variables? For example - how much does the precipitation vary across all the locations in which the species has been observed?\n",
    "- How often is the species reported at a given point in the climatic variable? For example - is the species most frequently observed in areas with 100mm of precipitation or 1000mm of precipitation? Are there any gaps in the environmental variable values across your occurrence records?\n",
    "- How much are the variables in my model correlated?\n",
    "\n",
    "Here we will step you through how you might want to address some of these questions using _ecocloud_ and R Notebook.\n",
    "\n",
    "## Step 1: Obtaining your data from BCCVL\n",
    "If you haven't already, you will need to download one of the output files from the BCCVL for the next analysis. \n",
    "- Under the Results tab of your experiment, select one algorithm. \n",
    "- Click the drop down ‘more’ button, which will show all the results for that algorithm.\n",
    "- Search for the ‘Occurrence points with environmental data’ output, and click the blue download button behind this result.\n",
    "- Double check that this is the correct file. The filename has the following format: \"occurrence_environmental_species.name_algorithm.csv\".\n",
    "- Save this file somewhere that you can access it in the next session.\n",
    "\n",
    "## Step 2: Uploading your data in _ecocloud_\n",
    "__Before uploading data, make sure you are currently sitting in the 'workspace' folder (as opposed to 'home'). This will ensure that your files are saved in your _ecocloud_ account.__ \n",
    "\n",
    "- Let's first create a new folder to store all the files of this workshop. Click the 'New folder' icon. This creates an 'Untitled Folder'.\n",
    "- Right click the folder, and select Rename. Name your folder 'ResBaz'.\n",
    "- Double click the ResBaz folder to make sure you are working in that.\n",
    "- Click the 'Upload files' button in the top of the panel on the left.\n",
    "- Find the csv file that you downloaded from BCCVL. This will now be saved in your ResBaz folder.\n",
    "\n",
    "## Introduction to Jupyter Notebooks <a name=\"notebook\"></a>\n",
    "\n",
    "Jupyter notebooks allow you to create a live document in which you can edit text, code and equations, or share results. The advantage of using a Jupyter notebook is that you are able to work and annotate your data, which you may want to share with colleagues, or use in published materials. \n",
    "\n",
    "In *ecocloud*, we use Jupyter notebooks for this reason. It lets you work on a document and save it for later. For more of an introduction on using Jupyter itself, head to our **[support page](https://support.ecocloud.org.au/support/solutions/articles/6000200389-using-jupyter-notebooks)** or on the **[Jupyter website](http://jupyter.org/)**.\n",
    "\n",
    "Notebooks have three different types of cells:\n",
    "- Markdown: these are used for comments. Check this page for useful [Markdown tips](https://www.ibm.com/support/knowledgecenter/SSQNUZ_current/com.ibm.icpdata.doc/dsx/markd-jupyter.html).\n",
    "- Code: these are used for R or Python code. The coding language that you can run depends on what kind of server you have running in *ecocloud*.\n",
    "- Raw: can be used to write output directly.\n",
    "\n",
    "Use the commands on the top of the notebook to (from left to right):\n",
    "- Save your notebook.\n",
    "- Add a new cell (these are by default code, so if you want the cell to be markdown, change this in the drop-down menu.\n",
    "- Cut selected cells.\n",
    "- Copy selected cells.\n",
    "- Paste from clipboard.\n",
    "- Execute a cell. \n",
    "- Interupt the kernel, this will stop execution of cells.\n",
    "- Restart the kernel.\n",
    "\n",
    "## Using Notebooks in your *ecocloud* workspace <a name=\"upload\"></a>\n",
    "When you open your server in *ecocloud* you will automatically see your workspace loaded in the menu on the left. You can open a notebook from here, or find a notebook elsewhere. For example:\n",
    "- Go to a **Google Drive** folder by clicking the Google Drive icon.\n",
    "- Go to a **GitHub repository**. As an example: click the GitHub icon (the cat icon, 3rd from the top). By default you will see the *ecocloud* training repository. If you are running an R server, click on the R-notebooks folder and open the notebook you want to work with.\n",
    "\n",
    "You can also start a new notebook by clicking \"File\" > \"New\" > \"Notebook\".\n",
    "\n",
    "**Work through an existing notebook**\n",
    "\n",
    "If you want to work through a notebook without seeing the outputs of pre-run script, go to \"Edit\" > \"Clear All Outputs\". This will give you a clean notebook with just the markdown and code cells.\n",
    "\n",
    "You can execute cells of code in a notebook by clicking on the cell and then press \"Shift+Enter\" on your keyboard, or click the \"Play\" icon in the menubar. This will execute the current cell, show any output, and jump to the next cell below. During execution of a cell you will see a * next to the cell."
   ]
  },
  {
   "cell_type": "markdown",
   "metadata": {},
   "source": [
    "## Step 4: Save your Notebook\n",
    "\n",
    "If you use a notebook from a GitHub repository, please save it first to a folder in your own workspace so any of your changes will be saved. \n",
    "- Go to 'File' > 'Save Notebook As...'\n",
    "- Use the following name to save: 'workspace/ResBaz/ResBaz.ipynb'\n",
    "\n",
    "__Note__: it is really important that when you save your notebook, you always use the workspace (and folder name) instead of 'GitHub:ausecocloud/training/R-notebooks'\n",
    "Without the 'workspace/' in the name your Notebook will not be saved in the workspace for future use. \n",
    "\n",
    "## Step 5: Setting the working directory\n",
    "Whether you are working in the RStudio server, or through a Notebook, setting the working directory is important. Do this by running the code below (press 'Shift+Enter' or click the 'Play' button in the menubar."
   ]
  },
  {
   "cell_type": "code",
   "execution_count": null,
   "metadata": {},
   "outputs": [],
   "source": [
    "setwd(\"/home/jovyan/workspace/ResBaz\")\n",
    "getwd()"
   ]
  },
  {
   "cell_type": "markdown",
   "metadata": {},
   "source": [
    "## Step 6: Install packages\n",
    "This script requires a few packages. These are mostly for the graphics, but you can find more about each package by typing `?` before the name of any of the packages."
   ]
  },
  {
   "cell_type": "code",
   "execution_count": null,
   "metadata": {},
   "outputs": [],
   "source": [
    "library(tidyr)\n",
    "library(ggplot2)\n",
    "library(reshape2)\n",
    "library(readr)\n",
    "library(Hmisc)\n",
    "install.packages(\"corrplot\")\n",
    "library(corrplot)"
   ]
  },
  {
   "cell_type": "markdown",
   "metadata": {},
   "source": [
    "## Step 7: Load data\n",
    "Although your dataset is sitting in the workspace folder, this has not yet been called to memory in the script so you can't work on it yet. In this example we use the Mountain Ash occurrence data, but you can use whatever data you downloaded. \n",
    "__Note:__ The way your file is named is really important. The script must have the exact spelling otherwise you will get an error."
   ]
  },
  {
   "cell_type": "code",
   "execution_count": null,
   "metadata": {},
   "outputs": [],
   "source": [
    "occurrence <- read.csv(\"occurrence_environmental_Eucalyptus.regnans_maxent.csv\")"
   ]
  },
  {
   "cell_type": "markdown",
   "metadata": {},
   "source": [
    "## Step 8: Check your data\n",
    "You always want to check your data. This lets you know how it has been read in, how the names are and what is within the columns and rows. The easiest way to do this is with the `head()` command"
   ]
  },
  {
   "cell_type": "code",
   "execution_count": null,
   "metadata": {},
   "outputs": [],
   "source": [
    "head(occurrence)"
   ]
  },
  {
   "cell_type": "markdown",
   "metadata": {},
   "source": [
    "Here you can see that the data that loaded in has a column for the longtitude, latitude, the species name, and climate variables B01, B14, B05, B04, B06, B12, B13. Your data might look a little different depening on the species you selected and the climate variables you included. "
   ]
  },
  {
   "cell_type": "markdown",
   "metadata": {},
   "source": [
    "## Step 9: Generate summary boxplots\n",
    "There are two plots that we are interested in to explore the data - boxplots and histograms. First we will start with the boxplots. \n",
    "__Note__ you can only include variables in a single plot that have the same unit. For example, you cannot include both temperature and precipitation in a summary boxplot, because these are two different units, and aren't comparible in a sinlge box plot. \n",
    "\n",
    "A boxplot is a simple way to represent data. Typically the box represents the second and third quartile of the data, the line in the middle of the box represents the median value, and the top and bottom of the box represent the first and fourth quartile, respectively. Any outliers are represented as dots. \n",
    "\n",
    "For this dataset, a boxplot can be used to show the distribution of the values of the selected climate variables for different occurrences.\n",
    "\n",
    "For the first plot we have grouped B01, B05 and B05 together because they are all temperature variables.  \n",
    "\n",
    "__Note__ you may have to adjust the code to represent your data. You can also rename the x-axis or the y-axis by changing the text within the quotation marks `\"\"`"
   ]
  },
  {
   "cell_type": "code",
   "execution_count": null,
   "metadata": {},
   "outputs": [],
   "source": [
    "boxplot(occurrence[, c(\"B01\", \"B05\", \"B06\")], #change B01 etc to the variables in your model\n",
    "        xlab = \"Climate Variables\",\n",
    "        ylab = \"Temperature (C)\")"
   ]
  },
  {
   "cell_type": "markdown",
   "metadata": {},
   "source": [
    "The standard bioclim temperature variables are:\n",
    "- B01: Annual mean temperature\n",
    "- B02: Mean diurnal range\n",
    "- B03: Isothermality (=B02/B07 * 100)\n",
    "- B04: Temperature seasonality\n",
    "- B05: Maximum temperature of the warmest month\n",
    "- B06: Minimum temperature of coldest month\n",
    "- B07: Temperature annual range (BO5-BO6)\n",
    "- B08: Mean temperature of wettest quarter\n",
    "- B09: Mean temperature of driest quarter\n",
    "- B10: Mean temperature of warmest quarter\n",
    "- B11: Mean ttemperature of coldest quarter\n",
    "\n",
    "What do the boxplots for the temperature values show you? Are there any outliers?"
   ]
  },
  {
   "cell_type": "markdown",
   "metadata": {},
   "source": [
    "### __Enter your interpretation here by double clicking on these words__"
   ]
  },
  {
   "cell_type": "markdown",
   "metadata": {},
   "source": [
    "Next we can generate boxplots for the rainfall variables. The standard bioclim rainfall variables are:\n",
    "- B12: = Annual Precipitation\n",
    "- B13: = Precipitation of Wettest Month\n",
    "- B14: = Precipitation of Driest Month\n",
    "- B15: = Precipitation Seasonality (Coefficient of Variation)\n",
    "- B16: = Precipitation of Wettest Quarter\n",
    "- B17: = Precipitation of Driest Quarter\n",
    "- B18: = Precipitation of Warmest Quarter\n",
    "- B19: = Precipitation of Coldest Quarter\n",
    "\n",
    "Run the code below first, and then write in the box your interpretation for the precipitation values."
   ]
  },
  {
   "cell_type": "code",
   "execution_count": null,
   "metadata": {},
   "outputs": [],
   "source": [
    "boxplot(occurrence[, c(\"B12\", \"B13\", \"B14\")],\n",
    "        xlab = \"Climate Variables\",\n",
    "        ylab = \"Precipitation\")"
   ]
  },
  {
   "cell_type": "markdown",
   "metadata": {},
   "source": [
    "### __Enter your interpretation here by double clicking on these words__\n"
   ]
  },
  {
   "cell_type": "markdown",
   "metadata": {},
   "source": [
    "## Step 7: Get the average value for each predictor variable\n",
    "\n",
    "The boxplots give a good insight in the spread of your data, but we would like to know the average value of each of the climate variables.\n",
    "\n",
    "Let's see if you can add a code cell to this notebook (click the + on the top of the page), then add the code below:\n",
    "\n",
    "predictors <- subset(occurrence[,4:10]) #this creates a subset of the occurrence datafile with only the predictor variables\n",
    "\n",
    "colMeans(predictors[sapply(predictors, is.numeric)]) #this gets the average of each column\n"
   ]
  },
  {
   "cell_type": "markdown",
   "metadata": {},
   "source": [
    "## Step 8: Generate summary histograms\n",
    "Another plot that can be generated is a histogram. Histograms are useful to visualise frequency statistics. Here we use the histogram plot to visualize the frequency of occurrence records across all variables. Each bar represents the number of occurrence records observed for that value of the predictor variable. \n",
    "\n",
    "__Note__ the way this plot is generated is by calling the columns of data, which from the `head()` command we saw were in columns 4 to 10. Again you will need to adjust this code so that is relevant to your data."
   ]
  },
  {
   "cell_type": "code",
   "execution_count": null,
   "metadata": {},
   "outputs": [],
   "source": [
    "ggplot(melt(occurrence[,4:10]),aes(x=value)) + geom_histogram() + facet_wrap(~variable, scales = \"free\")"
   ]
  },
  {
   "cell_type": "markdown",
   "metadata": {},
   "source": [
    "If your data is anything like ours you might find it interesting to see that some of the variables have a double peak. What do you think this means for the species you are looking at? "
   ]
  },
  {
   "cell_type": "markdown",
   "metadata": {},
   "source": [
    "### Type your answer in this box by double clicking on these words\n"
   ]
  },
  {
   "cell_type": "markdown",
   "metadata": {},
   "source": [
    "## Step 9: Generate a correlation plot\n",
    "It is good to check whether the predictor variables in your model are correlated as you want to avoid high correlation between predictors.\n",
    "\n",
    "To generate this plot we use the `corrplot()` function and package. This generates a matrix which compares each variable against the other. Colours within the plot represent botht the direction (positive or negative) and the strength of the correlation. The strength of the correlation is also represented as the size of the circle. \n",
    "\n",
    "__Note__ again, for this plot we selected our data to correlate based on thier column numbers, be sure to adjust this if you have different numbers."
   ]
  },
  {
   "cell_type": "code",
   "execution_count": null,
   "metadata": {},
   "outputs": [],
   "source": [
    "predictors <- subset(occurrence[,4:10])"
   ]
  },
  {
   "cell_type": "markdown",
   "metadata": {},
   "source": [
    "There are several correlation statistics you can choose from, but here we have chosen \"pearson\" correlation coeifficient. If you want to learn more about the options and what they mean, you can enter the following code: `?cor`"
   ]
  },
  {
   "cell_type": "code",
   "execution_count": null,
   "metadata": {},
   "outputs": [],
   "source": [
    "variable_correlations <- cor(predictors, method=\"pearson\")\n",
    "\n",
    "corrplot(variable_correlations, type = \"upper\", order = \"hclust\", \n",
    "         tl.col = \"black\", tl.srt = 45)"
   ]
  },
  {
   "cell_type": "markdown",
   "metadata": {},
   "source": [
    "The first thing you might notice is that every variable has a strong positive correlation with itself. That's a good thing! It would be concerning otherwise...\n",
    "\n",
    "Now we can start interpretting some of these results. If this plot shows you high correlation between two variables, you might want to rerun your SDM in the BCCVL with only one of the two highly correlated variables. "
   ]
  },
  {
   "cell_type": "markdown",
   "metadata": {},
   "source": [
    "## Congratulations!\n",
    "You have completed the additional analyses in R using ecocloud, both in RStudio and through a Notebook. We hope this has given you some insight in how to use a cloud-based tool. While you could quite easily run these analyses on your own laptop, the power of cloud compute could come in really handy when you have large data, if you want to use Notebooks like this, and easily collaborate with others through Google Drive or Github. \n",
    "\n",
    "Check the handout for some more useful information about other _ecocloud_ functionalities and other Github repositories with training notebooks."
   ]
  }
 ],
 "metadata": {
  "kernelspec": {
   "display_name": "Environment (conda_r_r35)",
   "language": "r",
   "name": "conda_r_r35"
  },
  "language_info": {
   "codemirror_mode": "r",
   "file_extension": ".r",
   "mimetype": "text/x-r-source",
   "name": "R",
   "pygments_lexer": "r",
   "version": "3.5.1"
  }
 },
 "nbformat": 4,
 "nbformat_minor": 2
}
