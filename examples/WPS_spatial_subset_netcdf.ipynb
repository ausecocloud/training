{
 "cells": [
  {
   "cell_type": "markdown",
   "metadata": {},
   "source": [
    "# Spatial subsetting with a NetCDF file\n"
   ]
  },
  {
   "cell_type": "markdown",
   "metadata": {},
   "source": [
    "This notebook demonstrates usage of the `spatial_subset_netcdf` WPS process, with additional visualisation of the output."
   ]
  },
  {
   "cell_type": "markdown",
   "metadata": {},
   "source": [
    "## Prerequisites\n",
    "Some packages are required to be installed in your environment prior to running this notebook.\n",
    "Run the below system command to install these packages."
   ]
  },
  {
   "cell_type": "code",
   "execution_count": 1,
   "metadata": {},
   "outputs": [],
   "source": [
    "# Note: Version pinning required to work around https://github.com/matplotlib/basemap/issues/435\n",
    "# <This issue should be resolved upon release of matplotlib==3.0.2>"
   ]
  },
  {
   "cell_type": "code",
   "execution_count": null,
   "metadata": {},
   "outputs": [],
   "source": [
    "!conda install -f -y \\\n",
    "    netCDF4 \\\n",
    "    basemap=1.2.0 \\\n",
    "    matplotlib=3.0.0"
   ]
  },
  {
   "cell_type": "markdown",
   "metadata": {},
   "source": [
    "## Importing packages"
   ]
  },
  {
   "cell_type": "code",
   "execution_count": 3,
   "metadata": {},
   "outputs": [],
   "source": [
    "import owslib.wps\n",
    "import urllib.request\n",
    "\n",
    "from netCDF4 import Dataset as NetCDFDataset\n",
    "import matplotlib.pyplot as plt\n",
    "import numpy as np\n",
    "from mpl_toolkits.basemap import Basemap"
   ]
  },
  {
   "cell_type": "markdown",
   "metadata": {},
   "source": [
    "## Accessing the WPS server\n",
    "The URL of the server is the only required piece of information to initialise the WPS object.\n",
    "This object will be used later to communicate with the WPS server."
   ]
  },
  {
   "cell_type": "code",
   "execution_count": 4,
   "metadata": {},
   "outputs": [],
   "source": [
    "wps_server_url = \"https://wps.test.ecocloud.org.au/wps\"\n",
    "wps = owslib.wps.WebProcessingService(wps_server_url)"
   ]
  },
  {
   "cell_type": "markdown",
   "metadata": {},
   "source": [
    "## Finding out about the `spatial_subset_netcdf` WPS process\n",
    "As WPS processes are able to describe themselves, you can run the following to find out what inputs and outputs it has. This is completely optional - you can skip this if you already have advance knowledge of the process."
   ]
  },
  {
   "cell_type": "code",
   "execution_count": 5,
   "metadata": {},
   "outputs": [
    {
     "data": {
      "text/html": [
       "<h3>Process information</h3>"
      ],
      "text/plain": [
       "<IPython.core.display.HTML object>"
      ]
     },
     "metadata": {},
     "output_type": "display_data"
    },
    {
     "data": {
      "text/html": [
       "<div>\n",
       "<style scoped>\n",
       "    .dataframe tbody tr th:only-of-type {\n",
       "        vertical-align: middle;\n",
       "    }\n",
       "\n",
       "    .dataframe tbody tr th {\n",
       "        vertical-align: top;\n",
       "    }\n",
       "\n",
       "    .dataframe thead th {\n",
       "        text-align: right;\n",
       "    }\n",
       "</style>\n",
       "<table border=\"1\" class=\"dataframe\">\n",
       "  <thead>\n",
       "    <tr style=\"text-align: right;\">\n",
       "      <th></th>\n",
       "      <th></th>\n",
       "      <th></th>\n",
       "    </tr>\n",
       "  </thead>\n",
       "  <tbody>\n",
       "    <tr>\n",
       "      <th>0</th>\n",
       "      <td>Identifier</td>\n",
       "      <td>spatial_subset_netcdf</td>\n",
       "    </tr>\n",
       "    <tr>\n",
       "      <th>1</th>\n",
       "      <td>Title</td>\n",
       "      <td>NetCDF data spatial subset</td>\n",
       "    </tr>\n",
       "    <tr>\n",
       "      <th>2</th>\n",
       "      <td>Abstract</td>\n",
       "      <td>Subsets a given NetCDF dataset with given spat...</td>\n",
       "    </tr>\n",
       "  </tbody>\n",
       "</table>\n",
       "</div>"
      ],
      "text/plain": [
       "                                                                \n",
       "0  Identifier                              spatial_subset_netcdf\n",
       "1       Title                         NetCDF data spatial subset\n",
       "2    Abstract  Subsets a given NetCDF dataset with given spat..."
      ]
     },
     "metadata": {},
     "output_type": "display_data"
    },
    {
     "data": {
      "text/html": [
       "<h3>Process inputs</h3>"
      ],
      "text/plain": [
       "<IPython.core.display.HTML object>"
      ]
     },
     "metadata": {},
     "output_type": "display_data"
    },
    {
     "data": {
      "text/html": [
       "<div>\n",
       "<style scoped>\n",
       "    .dataframe tbody tr th:only-of-type {\n",
       "        vertical-align: middle;\n",
       "    }\n",
       "\n",
       "    .dataframe tbody tr th {\n",
       "        vertical-align: top;\n",
       "    }\n",
       "\n",
       "    .dataframe thead th {\n",
       "        text-align: right;\n",
       "    }\n",
       "</style>\n",
       "<table border=\"1\" class=\"dataframe\">\n",
       "  <thead>\n",
       "    <tr style=\"text-align: right;\">\n",
       "      <th></th>\n",
       "      <th>Parameter</th>\n",
       "      <th>Title</th>\n",
       "    </tr>\n",
       "  </thead>\n",
       "  <tbody>\n",
       "    <tr>\n",
       "      <th>0</th>\n",
       "      <td>dataset</td>\n",
       "      <td>NetCDF Dataset</td>\n",
       "    </tr>\n",
       "    <tr>\n",
       "      <th>1</th>\n",
       "      <td>shapefile</td>\n",
       "      <td>.zip file representing ESRI Shapefile of geome...</td>\n",
       "    </tr>\n",
       "    <tr>\n",
       "      <th>2</th>\n",
       "      <td>variable</td>\n",
       "      <td>Variable to subset</td>\n",
       "    </tr>\n",
       "  </tbody>\n",
       "</table>\n",
       "</div>"
      ],
      "text/plain": [
       "   Parameter                                              Title\n",
       "0    dataset                                     NetCDF Dataset\n",
       "1  shapefile  .zip file representing ESRI Shapefile of geome...\n",
       "2   variable                                 Variable to subset"
      ]
     },
     "metadata": {},
     "output_type": "display_data"
    },
    {
     "data": {
      "text/html": [
       "<h3>Process outputs</h3>"
      ],
      "text/plain": [
       "<IPython.core.display.HTML object>"
      ]
     },
     "metadata": {},
     "output_type": "display_data"
    },
    {
     "data": {
      "text/html": [
       "<div>\n",
       "<style scoped>\n",
       "    .dataframe tbody tr th:only-of-type {\n",
       "        vertical-align: middle;\n",
       "    }\n",
       "\n",
       "    .dataframe tbody tr th {\n",
       "        vertical-align: top;\n",
       "    }\n",
       "\n",
       "    .dataframe thead th {\n",
       "        text-align: right;\n",
       "    }\n",
       "</style>\n",
       "<table border=\"1\" class=\"dataframe\">\n",
       "  <thead>\n",
       "    <tr style=\"text-align: right;\">\n",
       "      <th></th>\n",
       "      <th>Parameter</th>\n",
       "      <th>Title</th>\n",
       "    </tr>\n",
       "  </thead>\n",
       "  <tbody>\n",
       "    <tr>\n",
       "      <th>0</th>\n",
       "      <td>output</td>\n",
       "      <td>Metadata</td>\n",
       "    </tr>\n",
       "  </tbody>\n",
       "</table>\n",
       "</div>"
      ],
      "text/plain": [
       "  Parameter     Title\n",
       "0    output  Metadata"
      ]
     },
     "metadata": {},
     "output_type": "display_data"
    }
   ],
   "source": [
    "from IPython.display import display, HTML\n",
    "import pandas as pd\n",
    "\n",
    "process_name = \"spatial_subset_netcdf\"\n",
    "description = wps.describeprocess(process_name)\n",
    "\n",
    "# Describes the process\n",
    "process_info = [\n",
    "    [\"Identifier\", description.identifier],\n",
    "    [\"Title\", description.title],\n",
    "    [\"Abstract\", description.abstract],\n",
    "]\n",
    "\n",
    "display(HTML(\"<h3>Process information</h3>\"))\n",
    "display(pd.DataFrame(process_info, columns=[\"\", \"\"]))\n",
    "\n",
    "# Describes inputs to the process\n",
    "process_inputs = []\n",
    "for data_input in description.dataInputs:\n",
    "    process_inputs.append([data_input.identifier, data_input.title])\n",
    "\n",
    "display(HTML(\"<h3>Process inputs</h3>\"))\n",
    "display(pd.DataFrame(process_inputs, columns=[\"Parameter\", \"Title\"]))\n",
    "\n",
    "\n",
    "# Describes outputs of the process\n",
    "process_outputs = []\n",
    "for process_output in description.processOutputs:\n",
    "    process_outputs.append([process_output.identifier, process_output.title])\n",
    "\n",
    "display(HTML(\"<h3>Process outputs</h3>\"))\n",
    "display(pd.DataFrame(process_outputs, columns=[\"Parameter\", \"Title\"]))"
   ]
  },
  {
   "cell_type": "markdown",
   "metadata": {},
   "source": [
    "## Constructing the WPS request\n",
    "The input parameters of the request to the `spatial_subset_netcdf` process are bundled in a list of tuples as below.\n",
    "\n",
    "The example here uses rainfall data hosted by NCI, with subsetting to occur over the `lwe_thickness_of_precipitation_amount` data variable clipped to a shapefile of Queensland hosted by ALA.\n",
    "\n",
    "You may notice `ComplexDataInput()` being used for the `dataset` and `shapefile` inputs - the WPS process expects \"complex\" data inputs for these, and these are generally found for references to data or binary files."
   ]
  },
  {
   "cell_type": "code",
   "execution_count": 6,
   "metadata": {},
   "outputs": [],
   "source": [
    "dataset_url = \"http://dapds00.nci.org.au/thredds/fileServer/rr9/ANUClimate/ANUClimate_v1-0_rainfall_monthly-mean_0-01deg_1976-2005/00000000/ANUClimate_v1-0_rainfall_monthly-mean_0-01deg_1976-2005_00000000_09.nc\"\n",
    "dataset_variable = \"lwe_thickness_of_precipitation_amount\"\n",
    "shapefile_url = \"http://spatial.ala.org.au/ws/shape/shp/3742606\"\n",
    "\n",
    "inputs = [\n",
    "    (\"dataset\", owslib.wps.ComplexDataInput(dataset_url)),\n",
    "    (\"variable\", dataset_variable),\n",
    "    (\"shapefile\", owslib.wps.ComplexDataInput(shapefile_url)),\n",
    "]"
   ]
  },
  {
   "cell_type": "markdown",
   "metadata": {},
   "source": [
    "## Executing the WPS request\n",
    "Execution involves simply handing off the input to the WPS server and telling it which process to run it under.\n",
    "\n",
    "We also tell the `execute()` method that the output we expect is named `output` and the execution mode is asynchronous (`ASYNC`) which requires us to check back with the server to find out when the request has been completed.\n",
    "\n",
    "This check is done in the next cell - a loop runs until the request is complete, with a check occurring every 5 seconds."
   ]
  },
  {
   "cell_type": "code",
   "execution_count": 7,
   "metadata": {},
   "outputs": [],
   "source": [
    "process_name = \"spatial_subset_netcdf\"\n",
    "request = wps.execute(process_name, inputs, output=\"output\", mode=owslib.wps.ASYNC)"
   ]
  },
  {
   "cell_type": "code",
   "execution_count": 8,
   "metadata": {},
   "outputs": [
    {
     "name": "stdout",
     "output_type": "stream",
     "text": [
      "Done\n"
     ]
    }
   ],
   "source": [
    "# Loop checks status every 5 seconds\n",
    "while not request.isComplete():\n",
    "    request.checkStatus(sleepSecs=5)\n",
    "\n",
    "# Once we are done...\n",
    "print(\"Done\")"
   ]
  },
  {
   "cell_type": "markdown",
   "metadata": {},
   "source": [
    "## Retrieving the output\n",
    "Once the WPS server is done, the URL to the output is provided and can be used to download the output NetCDF file."
   ]
  },
  {
   "cell_type": "code",
   "execution_count": 9,
   "metadata": {},
   "outputs": [],
   "source": [
    "output_url = request.processOutputs[0].reference\n",
    "file_path, _ = urllib.request.urlretrieve(output_url)"
   ]
  },
  {
   "cell_type": "markdown",
   "metadata": {},
   "source": [
    "## Reading the output\n",
    "As the output is a NetCDF file, we pass it into `NetCDFDataset()` and read out the data from variables within the dataset (here, the latitude, longitude and precipitation defined by `dataset_variable` from before.)"
   ]
  },
  {
   "cell_type": "code",
   "execution_count": 14,
   "metadata": {},
   "outputs": [],
   "source": [
    "nc = NetCDFDataset(file_path)\n",
    "\n",
    "lat = nc.variables['lat'][:]\n",
    "lon = nc.variables['lon'][:]\n",
    "dataset_variable_data = nc.variables[dataset_variable][:][0,:,:]"
   ]
  },
  {
   "cell_type": "markdown",
   "metadata": {},
   "source": [
    "## Visualising the output\n",
    "For the example data here, we can present it on a map of Australia as shown below."
   ]
  },
  {
   "cell_type": "code",
   "execution_count": 15,
   "metadata": {},
   "outputs": [],
   "source": [
    "# Create map around Australia\n",
    "map = Basemap(projection='merc',llcrnrlat=-45,urcrnrlat=-9,llcrnrlon=111,urcrnrlon=155,resolution='l')"
   ]
  },
  {
   "cell_type": "code",
   "execution_count": 16,
   "metadata": {},
   "outputs": [],
   "source": [
    "# Map longitude and latitude into plot domain\n",
    "lons,lats = np.meshgrid(lon,lat)\n",
    "x,y = map(lons,lats)"
   ]
  },
  {
   "cell_type": "code",
   "execution_count": 17,
   "metadata": {},
   "outputs": [
    {
     "data": {
      "image/png": "[encoded data removed]",
      "text/plain": [
       "<Figure size 720x720 with 1 Axes>"
      ]
     },
     "metadata": {},
     "output_type": "display_data"
    }
   ],
   "source": [
    "# Plot\n",
    "plt.figure(figsize=(10,10))\n",
    "map.drawcoastlines()\n",
    "map.drawcountries()\n",
    "map.contourf(x,y,dataset_variable_data,levels=np.arange(0,100,5))\n",
    "plt.show()"
   ]
  },
  {
   "cell_type": "code",
   "execution_count": null,
   "metadata": {},
   "outputs": [],
   "source": []
  }
 ],
 "metadata": {
  "kernelspec": {
   "display_name": "Environment (conda_py36)",
   "language": "python",
   "name": "conda_py36"
  },
  "language_info": {
   "codemirror_mode": {
    "name": "ipython",
    "version": 3
   },
   "file_extension": ".py",
   "mimetype": "text/x-python",
   "name": "python",
   "nbconvert_exporter": "python",
   "pygments_lexer": "ipython3",
   "version": "3.6.6"
  }
 },
 "nbformat": 4,
 "nbformat_minor": 2
}
