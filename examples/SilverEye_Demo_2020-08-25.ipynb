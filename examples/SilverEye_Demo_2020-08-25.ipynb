{
 "cells": [
  {
   "cell_type": "markdown",
   "metadata": {},
   "source": [
    "# SilverEye Demo 2020-08-25"
   ]
  },
  {
   "cell_type": "markdown",
   "metadata": {},
   "source": [
    "This page demonstrates how to use the `owslib.wps` Python library to invoke our *SilverEye WPS microservice*. "
   ]
  },
  {
   "cell_type": "code",
   "execution_count": 1,
   "metadata": {},
   "outputs": [
    {
     "data": {
      "text/plain": [
       "'WPS'"
      ]
     },
     "execution_count": 1,
     "metadata": {},
     "output_type": "execute_result"
    }
   ],
   "source": [
    "from owslib.wps import WebProcessingService\n",
    "wps = WebProcessingService('https://api.silvereye.bccvl.org.au/wps', verbose=False, skip_caps=True)\n",
    "wps.getcapabilities()\n",
    "wps.identification.type"
   ]
  },
  {
   "cell_type": "code",
   "execution_count": 2,
   "metadata": {},
   "outputs": [
    {
     "data": {
      "text/plain": [
       "'PyWPS Processing Service'"
      ]
     },
     "execution_count": 2,
     "metadata": {},
     "output_type": "execute_result"
    }
   ],
   "source": [
    "wps.identification.title"
   ]
  },
  {
   "cell_type": "code",
   "execution_count": 3,
   "metadata": {},
   "outputs": [
    {
     "data": {
      "text/plain": [
       "'PyWPS is an implementation of the Web Processing Service standard from the Open Geospatial Consortium. PyWPS is written in Python.'"
      ]
     },
     "execution_count": 3,
     "metadata": {},
     "output_type": "execute_result"
    }
   ],
   "source": [
    "wps.identification.abstract"
   ]
  },
  {
   "cell_type": "code",
   "execution_count": 4,
   "metadata": {},
   "outputs": [
    {
     "name": "stdout",
     "output_type": "stream",
     "text": [
      "GetCapabilities\n",
      "DescribeProcess\n",
      "Execute\n"
     ]
    }
   ],
   "source": [
    "for operation in wps.operations:\n",
    "    print(operation.name)"
   ]
  },
  {
   "cell_type": "markdown",
   "metadata": {},
   "source": [
    "## What processes are supported?"
   ]
  },
  {
   "cell_type": "code",
   "execution_count": 5,
   "metadata": {},
   "outputs": [
    {
     "name": "stdout",
     "output_type": "stream",
     "text": [
      "   process_one_year_all_months: ANUClim monthly aggregation for all months in one year.\n",
      " process_one_year_all_quarters: ANUClim quarterly aggregation for one whole year.\n",
      "  process_one_year_month_range: ANUClim monthly aggregation within range of months in one year.\n",
      "    process_one_year_one_month: ANUClim monthly aggregation for one month in one year.\n",
      "  process_one_year_one_quarter: ANUClim quarterly aggregation for one quarter in one year.\n",
      "      process_years_all_months: ANUClim monthly aggregation for all months in a range of years.\n",
      "    process_years_all_quarters: ANUClim quarterly aggregation for a range of years.\n",
      "       process_years_one_month: ANUClim monthly aggregation for only one month in a range of years.\n",
      "     process_years_one_quarter: ANUClim quarterly aggregation for one quarter in a range of years.\n",
      "              process_one_year: ANUClim yearly aggregation for one year.\n",
      "                 process_years: ANUClim yearly aggregation for a range of years.\n",
      "process_from_year_month_to_year_month_range: ANUClim monthly aggregation within a range of months.\n",
      "     process_years_month_range: ANUClim monthly aggregation within a range of years and a range of months.\n",
      "process_single_location_one_year_all_months: ANUClim single location monthly aggregation for all months in one year.\n",
      "process_single_location_one_year_all_quarters: ANUClim single location quarterly aggregation for one whole year.\n",
      "process_single_location_one_year_month_range: ANUClim single location monthly aggregation within range of months in one year.\n",
      "process_single_location_one_year_one_month: ANUClim single location daily raw data for one month in one year.\n",
      "process_single_location_one_year_one_quarter: ANUClim single location daily raw data for one quarter in one year.\n",
      "process_single_location_years_all_months: ANUClim single location monthly aggregation for all months in a range of years.\n",
      "process_single_location_years_all_quarters: ANUClim single location quarterly aggregation for a range of years.\n",
      "process_single_location_years_one_month: ANUClim single location monthly aggregation for only one month in a range of years.\n",
      "process_single_location_years_one_quarter: ANUClim single location quarterly aggregation for one quarter in a range of years.\n",
      " process_single_location_years: ANUClim single location yearly aggregation for a range of years.\n",
      "process_single_location_one_year: ANUClim single location daily raw data for one year.\n",
      "process_single_location_from_year_month_to_year_month_range: ANUClim single location monthly aggregation within a range of months.\n",
      "process_single_location_years_month_range: ANUClim single location monthly aggregation within a range of years and a range of months.\n",
      "process_predefined_region_one_year_one_month: ANUClim monthly aggregation for one month in one year.\n",
      "process_predefined_region_one_year_all_months: ANUClim monthly aggregation for all months in one year.\n",
      "process_predefined_region_one_year_all_quarters: ANUClim quarterly aggregation for one whole year.\n",
      "process_predefined_region_one_year_month_range: ANUClim monthly aggregation within range of months in one year.\n",
      "process_predefined_region_one_year_one_quarter: ANUClim quarterly aggregation for one quarter in one year.\n",
      "process_predefined_region_years_all_months: ANUClim monthly aggregation for all months in a range of years.\n",
      "process_predefined_region_years_one_month: ANUClim monthly aggregation for only one month in a range of years.\n",
      "process_predefined_region_years_all_quarters: ANUClim quarterly aggregation for a range of years.\n",
      "process_predefined_region_years_one_quarter: ANUClim quarterly aggregation for one quarter in a range of years.\n",
      "process_predefined_region_one_year: ANUClim yearly aggregation for one year.\n",
      "process_predefined_region_years: ANUClim yearly aggregation for a range of years.\n",
      "process_predefined_region_from_year_month_to_year_month_range: ANUClim monthly aggregation within a range of months.\n",
      "process_predefined_region_years_month_range: ANUClim monthly aggregation within a range of years and a range of months.\n",
      "               one_wps_process: SilverEye combined process for multiple spatial and time selections.\n"
     ]
    }
   ],
   "source": [
    "for process in wps.processes:\n",
    "    print(\"{:>30}: {}\".format(process.identifier, process.title))"
   ]
  },
  {
   "cell_type": "markdown",
   "metadata": {},
   "source": [
    "## Getting Process Descriptions"
   ]
  },
  {
   "cell_type": "code",
   "execution_count": 6,
   "metadata": {},
   "outputs": [
    {
     "data": {
      "text/plain": [
       "'process_one_year_one_month'"
      ]
     },
     "execution_count": 6,
     "metadata": {},
     "output_type": "execute_result"
    }
   ],
   "source": [
    "from owslib.wps import printInputOutput\n",
    "process = wps.describeprocess('process_one_year_one_month')\n",
    "process.identifier"
   ]
  },
  {
   "cell_type": "code",
   "execution_count": 7,
   "metadata": {},
   "outputs": [
    {
     "data": {
      "text/plain": [
       "'ANUClim monthly aggregation for one month in one year.'"
      ]
     },
     "execution_count": 7,
     "metadata": {},
     "output_type": "execute_result"
    }
   ],
   "source": [
    "process.title"
   ]
  },
  {
   "cell_type": "code",
   "execution_count": 8,
   "metadata": {},
   "outputs": [
    {
     "data": {
      "text/plain": [
       "'Computes a monthly statistical function for env vars at location and time from ANUClimate daily climate grids.'"
      ]
     },
     "execution_count": 8,
     "metadata": {},
     "output_type": "execute_result"
    }
   ],
   "source": [
    "process.abstract"
   ]
  },
  {
   "cell_type": "code",
   "execution_count": 9,
   "metadata": {},
   "outputs": [
    {
     "name": "stdout",
     "output_type": "stream",
     "text": [
      " identifier=variables, title=Variables to extract, abstract=None, data type=string\n",
      " Allowed Value: temp_max\n",
      " Allowed Value: temp_min\n",
      " Allowed Value: rainfall\n",
      " Allowed Value: solar_radiation\n",
      " Allowed Value: vapour_pressure\n",
      " Default Value: None \n",
      " minOccurs=1, maxOccurs=5\n",
      "\n",
      " identifier=stfn, title=Statistical function to apply, abstract=None, data type=string\n",
      " Allowed Value: max\n",
      " Allowed Value: mean\n",
      " Allowed Value: median\n",
      " Allowed Value: min\n",
      " Allowed Value: std\n",
      " Allowed Value: var\n",
      " Default Value: None \n",
      " minOccurs=0, maxOccurs=1\n",
      "\n",
      " identifier=year, title=Year to process in range 1970:2014, abstract=None, data type=integer\n",
      " Default Value: None \n",
      " minOccurs=1, maxOccurs=1\n",
      "\n",
      " identifier=month, title=Month to process in range 1:12, abstract=None, data type=integer\n",
      " Default Value: None \n",
      " minOccurs=1, maxOccurs=1\n",
      "\n",
      " identifier=lat_min, title=Latitude minimum value to process in range -43.735:-9.005, abstract=None, data type=float\n",
      " Default Value: None \n",
      " minOccurs=1, maxOccurs=1\n",
      "\n",
      " identifier=lat_max, title=Latitude maximum value to process in range -43.735:-9.005, abstract=None, data type=float\n",
      " Default Value: None \n",
      " minOccurs=1, maxOccurs=1\n",
      "\n",
      " identifier=lon_min, title=Longitude minimum value to process in range 112.905:153.995, abstract=None, data type=float\n",
      " Default Value: None \n",
      " minOccurs=1, maxOccurs=1\n",
      "\n",
      " identifier=lon_max, title=Longitude maximum value to process in range 112.905:153.995, abstract=None, data type=float\n",
      " Default Value: None \n",
      " minOccurs=1, maxOccurs=1\n",
      "\n"
     ]
    }
   ],
   "source": [
    "for input in process.dataInputs:\n",
    "    printInputOutput(input)\n",
    "    print()"
   ]
  },
  {
   "cell_type": "code",
   "execution_count": 10,
   "metadata": {},
   "outputs": [
    {
     "name": "stdout",
     "output_type": "stream",
     "text": [
      " identifier=output, title=Metadata, abstract=None, data type=ComplexData\n",
      " Supported Value: mimeType=application/zip, encoding=None, schema=None\n",
      " Default Value: mimeType=application/zip, encoding=None, schema=None \n",
      " reference=None, mimeType=None\n"
     ]
    }
   ],
   "source": [
    "for output in process.processOutputs:\n",
    "    printInputOutput(output)"
   ]
  },
  {
   "cell_type": "markdown",
   "metadata": {},
   "source": [
    "## Understanding SilverEye Processes"
   ]
  },
  {
   "cell_type": "markdown",
   "metadata": {},
   "source": [
    "At 2020-07-31, Silvereye WPS API includes 39 processes. These processes are divided into 3 spatial selection types, and 13 time selection types.\n",
    "\n",
    "|Spatial Selection Type|Process Name Prefix ...|Requires Spatial Parameters|\n",
    "|----------------------|----------------------------|-----------------------------------|\n",
    "|Rectangular Region|`process_` | `lat_min`, `lat_max`, `lon_min`, `lon_max` |\n",
    "|Single Location|`process_single_location_` | `lat`, `lon` |\n",
    "|Predefined Region|`process_predefined_region_`| `gdb_name`, `rec_id`|\n",
    "\n",
    "The second part of the process name correspond to one of 13 time selection types, and each one is associated with additional time-related parameters.\n",
    "\n",
    "|Process Name Suffix ...|Associated Parameters|\n",
    "|--------------------------|---------------------|\n",
    "|`_one_year_one_month`|`year`, `month`|\n",
    "|`_one_year_all_months`|`year`|\n",
    "|`_years_one_month`|`year_min`, `year_max`, `month`|\n",
    "|`_years_all_months`|`year_min`, `year_max`|\n",
    "|`_one_year_one_quarter`|`year`, `quarter`|\n",
    "|`_one_year_all_quarters`|`year`|\n",
    "|`_years_one_quarter`|`year_min`, `year_max`, `quarter`|\n",
    "|`_years_all_quarters`|`year_min`, `year_max`|\n",
    "|`_one_year_month_range`|`year`, `month_min`, `month_max`|\n",
    "|`_years_month_range`|`year_min`, `year_max`, `month_min`, `month_max`|\n",
    "|`_from_yrmo_to_yrmo_range`|`year_from`, `month_from`, `year_to`, `month_to`|\n",
    "|`_one_year`|`year`|\n",
    "|`_years`|`year_min`, `year_max`|\n",
    "\n",
    "\n",
    "By combining a process name prefix and a suffix, you have the name of a `processid`.\n",
    "\n",
    "\n",
    "Next, you need to specify one or more climatic `variables`, from a choice of: `temp_min`, `temp_max`, `rainfall`, `solar_radiation`, `vapour_pressure`.\n",
    "\n",
    "You also need to specify a statistical function, with the `stfn` parameter name, with a choice of: `min`, `mean`, `median`, `max`, `std` (standard deviation), or `var` (variance).\n",
    "\n",
    "\n"
   ]
  },
  {
   "cell_type": "markdown",
   "metadata": {},
   "source": [
    "## Execute a Rectangular Region Process"
   ]
  },
  {
   "cell_type": "code",
   "execution_count": 11,
   "metadata": {},
   "outputs": [],
   "source": [
    "def monitor_execution(execution, sleepSecs=5, download=False, filepath='data/out.zip'):\n",
    "    while execution.isComplete() is False:\n",
    "        execution.checkStatus(sleepSecs=sleepSecs)\n",
    "        print('Execution status: {}'.format(execution.status))\n",
    "\n",
    "    if execution.isSucceded():\n",
    "        if download:\n",
    "            execution.getOutput(filepath=filepath)\n",
    "        else:\n",
    "            for output in execution.processOutputs:\n",
    "                if output.reference is not None:\n",
    "                    print('Output URL={}'.format(output.reference))\n",
    "    else:\n",
    "        for ex in execution.errors:\n",
    "            print('Error: code={}, locator={}, text={}'.format(ex.code, ex.locator, ex.text))"
   ]
  },
  {
   "cell_type": "markdown",
   "metadata": {},
   "source": [
    "The parameters are the following:\n",
    "- `execution`: the wps process we submitted\n",
    "- `sleepSecs`: how often to report the status (in seconds)\n",
    "- `download`: if we want to download the result, then use `filepath`; otherwise, report a URL.\n",
    "- `filepath`: path to where we want to store the result\n",
    "\n",
    "If the execution terminated with errors, they will be listed. "
   ]
  },
  {
   "cell_type": "code",
   "execution_count": 12,
   "metadata": {},
   "outputs": [
    {
     "data": {
      "text/plain": [
       "'ProcessAccepted'"
      ]
     },
     "execution_count": 12,
     "metadata": {},
     "output_type": "execute_result"
    }
   ],
   "source": [
    "processid = 'process_one_year_one_month'\n",
    "inputs = [ \n",
    "    (\"variables\", \"temp_max\"), (\"variables\", \"temp_min\"), (\"variables\", \"rainfall\"),\n",
    "    (\"stfn\", \"mean\"), \n",
    "    (\"year\", \"2014\"), (\"month\", \"6\"), \n",
    "    (\"lat_min\", \"-28.135\"), (\"lat_max\", \"-28.105\"),\n",
    "    (\"lon_min\", \"152.855\"), (\"lon_max\", \"152.875\")\n",
    "]\n",
    "output = \"OUTPUT\"\n",
    "execution = wps.execute(processid, inputs, output = \"OUTPUT\")\n",
    "execution.getStatus()"
   ]
  },
  {
   "cell_type": "code",
   "execution_count": 14,
   "metadata": {},
   "outputs": [],
   "source": [
    "monitor_execution(execution, sleepSecs=20, download=True, filepath='workspace/data/outputs/out20200825T1102.zip')"
   ]
  },
  {
   "cell_type": "markdown",
   "metadata": {},
   "source": [
    "## Zip Contents"
   ]
  },
  {
   "cell_type": "code",
   "execution_count": 15,
   "metadata": {},
   "outputs": [],
   "source": [
    "filepath='workspace/data/outputs/out20200825T1102.zip'"
   ]
  },
  {
   "cell_type": "code",
   "execution_count": 16,
   "metadata": {},
   "outputs": [
    {
     "name": "stdout",
     "output_type": "stream",
     "text": [
      "['result.zarr', 'metadata.json', 'rainfall.csv', 'temp_min.csv', 'temp_min.tif', 'temp_max.tif', 'rainfall.tif', 'temp_max.csv', 'result.csv', 'result.nc']\n"
     ]
    }
   ],
   "source": [
    "from zipfile import ZipFile\n",
    "\n",
    "f = ZipFile(filepath)\n",
    "print(f.namelist())\n",
    "f.close()"
   ]
  },
  {
   "cell_type": "markdown",
   "metadata": {},
   "source": [
    "### Process NetCDF File"
   ]
  },
  {
   "cell_type": "code",
   "execution_count": 19,
   "metadata": {},
   "outputs": [
    {
     "data": {
      "text/plain": [
       "<xarray.Dataset>\n",
       "Dimensions:   (lat: 4, lon: 3, time: 1)\n",
       "Coordinates:\n",
       "  * lat       (lat) float64 -28.11 -28.11 -28.12 -28.14\n",
       "  * lon       (lon) float64 152.9 152.9 152.9\n",
       "  * time      (time) datetime64[ns] 2014-06-01\n",
       "Data variables:\n",
       "    rainfall  (time, lat, lon) float32 0.6808464 0.6700856 ... 0.61339635\n",
       "    temp_max  (time, lat, lon) float32 21.640259 21.457794 ... 21.940153 22.0892\n",
       "    temp_min  (time, lat, lon) float32 7.1886106 7.2265573 ... 7.1756883\n",
       "Attributes:\n",
       "    geospatial_lat_min:         -28.105\n",
       "    geospatial_lat_max:         -28.135\n",
       "    geospatial_lat_units:       degrees_north\n",
       "    geospatial_lat_resolution:  0.01\n",
       "    geospatial_lon_min:         152.855\n",
       "    geospatial_lon_max:         152.875\n",
       "    geospatial_lon_units:       degrees_east\n",
       "    geospatial_lon_resolution:  0.01\n",
       "    DOI:                        to be added\n",
       "    licence_data_access:        These data can be freely downloaded and used\n",
       "    keywords:                   EARTH SCIENCE > ATMOSPHERE\n",
       "    summary:                    ANU Daily Data Cubes Sliced and Aggregated\n",
       "    spatial_coverage:           Australia\n",
       "    acknowledgement:            The creation of this data was funded by ecoCo...\n",
       "    title:                      ANU Daily Data Cubes Aggregated\n",
       "    institution:                Griffith University, Queensland\n",
       "    contributor_name:           Silvereye, ecoCommons\n",
       "    license:                    Attribution 4.0 International\n",
       "    cdm_data_type:              grid\n",
       "    contact:                    ecocommons@ecocommons.org.au\n",
       "    source:                     ANUClimate_v1_1\n",
       "    date_created:               2020-08-25\n",
       "    publisher_name:             Silvereye microservice, ecoCommons Australia\n",
       "    publisher_url:              https://ecocommons.org.au\n",
       "    publisher_email:            ecocommons@ecocommons.org.au"
      ]
     },
     "execution_count": 19,
     "metadata": {},
     "output_type": "execute_result"
    }
   ],
   "source": [
    "import xarray as xr\n",
    "\n",
    "with ZipFile(filepath) as z:\n",
    "    res = z.extract('result.nc', path='workspace/data/outputs/')\n",
    "xds = xr.load_dataset(res)\n",
    "xds"
   ]
  },
  {
   "cell_type": "code",
   "execution_count": 21,
   "metadata": {},
   "outputs": [
    {
     "data": {
      "text/plain": [
       "<matplotlib.collections.QuadMesh at 0x7facb0ba7ba8>"
      ]
     },
     "execution_count": 21,
     "metadata": {},
     "output_type": "execute_result"
    },
    {
     "data": {
      "image/png": "[encoded data removed]",
      "text/plain": [
       "<Figure size 432x288 with 2 Axes>"
      ]
     },
     "metadata": {
      "needs_background": "light"
     },
     "output_type": "display_data"
    }
   ],
   "source": [
    "import matplotlib\n",
    "\n",
    "xds['temp_max'].sel({'time': '2014-06-01'}).plot()"
   ]
  },
  {
   "cell_type": "markdown",
   "metadata": {},
   "source": [
    "### Process CSV File"
   ]
  },
  {
   "cell_type": "code",
   "execution_count": 22,
   "metadata": {},
   "outputs": [
    {
     "data": {
      "text/html": [
       "<div>\n",
       "<style scoped>\n",
       "    .dataframe tbody tr th:only-of-type {\n",
       "        vertical-align: middle;\n",
       "    }\n",
       "\n",
       "    .dataframe tbody tr th {\n",
       "        vertical-align: top;\n",
       "    }\n",
       "\n",
       "    .dataframe thead th {\n",
       "        text-align: right;\n",
       "    }\n",
       "</style>\n",
       "<table border=\"1\" class=\"dataframe\">\n",
       "  <thead>\n",
       "    <tr style=\"text-align: right;\">\n",
       "      <th></th>\n",
       "      <th>lat</th>\n",
       "      <th>lon</th>\n",
       "      <th>time</th>\n",
       "      <th>rainfall</th>\n",
       "      <th>temp_max</th>\n",
       "      <th>temp_min</th>\n",
       "    </tr>\n",
       "  </thead>\n",
       "  <tbody>\n",
       "    <tr>\n",
       "      <td>0</td>\n",
       "      <td>-28.105</td>\n",
       "      <td>152.855</td>\n",
       "      <td>2014-06-01</td>\n",
       "      <td>0.680846</td>\n",
       "      <td>21.640259</td>\n",
       "      <td>7.188611</td>\n",
       "    </tr>\n",
       "    <tr>\n",
       "      <td>1</td>\n",
       "      <td>-28.105</td>\n",
       "      <td>152.865</td>\n",
       "      <td>2014-06-01</td>\n",
       "      <td>0.670086</td>\n",
       "      <td>21.457794</td>\n",
       "      <td>7.226557</td>\n",
       "    </tr>\n",
       "    <tr>\n",
       "      <td>2</td>\n",
       "      <td>-28.105</td>\n",
       "      <td>152.875</td>\n",
       "      <td>2014-06-01</td>\n",
       "      <td>0.659532</td>\n",
       "      <td>22.230024</td>\n",
       "      <td>7.238303</td>\n",
       "    </tr>\n",
       "    <tr>\n",
       "      <td>3</td>\n",
       "      <td>-28.115</td>\n",
       "      <td>152.855</td>\n",
       "      <td>2014-06-01</td>\n",
       "      <td>0.666355</td>\n",
       "      <td>22.126766</td>\n",
       "      <td>7.171170</td>\n",
       "    </tr>\n",
       "    <tr>\n",
       "      <td>4</td>\n",
       "      <td>-28.115</td>\n",
       "      <td>152.865</td>\n",
       "      <td>2014-06-01</td>\n",
       "      <td>0.654074</td>\n",
       "      <td>22.104393</td>\n",
       "      <td>7.189524</td>\n",
       "    </tr>\n",
       "  </tbody>\n",
       "</table>\n",
       "</div>"
      ],
      "text/plain": [
       "      lat      lon        time  rainfall   temp_max  temp_min\n",
       "0 -28.105  152.855  2014-06-01  0.680846  21.640259  7.188611\n",
       "1 -28.105  152.865  2014-06-01  0.670086  21.457794  7.226557\n",
       "2 -28.105  152.875  2014-06-01  0.659532  22.230024  7.238303\n",
       "3 -28.115  152.855  2014-06-01  0.666355  22.126766  7.171170\n",
       "4 -28.115  152.865  2014-06-01  0.654074  22.104393  7.189524"
      ]
     },
     "execution_count": 22,
     "metadata": {},
     "output_type": "execute_result"
    }
   ],
   "source": [
    "import pandas as pd\n",
    "\n",
    "with ZipFile(filepath) as z:\n",
    "    with z.open('result.csv') as zf:\n",
    "        df = pd.read_csv(zf)\n",
    "df.head()"
   ]
  },
  {
   "cell_type": "code",
   "execution_count": 23,
   "metadata": {},
   "outputs": [
    {
     "data": {
      "text/plain": [
       "<matplotlib.axes._subplots.AxesSubplot at 0x7facb0b25f98>"
      ]
     },
     "execution_count": 23,
     "metadata": {},
     "output_type": "execute_result"
    },
    {
     "data": {
      "image/png": "[encoded data removed]",
      "text/plain": [
       "<Figure size 432x288 with 1 Axes>"
      ]
     },
     "metadata": {
      "needs_background": "light"
     },
     "output_type": "display_data"
    }
   ],
   "source": [
    "df.plot('lat', 'rainfall', kind='line', title='Rainfall means for 2014-06', grid=True)"
   ]
  },
  {
   "cell_type": "markdown",
   "metadata": {},
   "source": [
    "### Process Metadata File"
   ]
  },
  {
   "cell_type": "code",
   "execution_count": 24,
   "metadata": {},
   "outputs": [
    {
     "name": "stdout",
     "output_type": "stream",
     "text": [
      "{\n",
      "    \"spatial_selection_type\": \"rectangular_region\",\n",
      "    \"process_name\": \"process_one_year_one_month\",\n",
      "    \"variables\": [\n",
      "        \"rainfall\",\n",
      "        \"temp_max\",\n",
      "        \"temp_min\"\n",
      "    ],\n",
      "    \"time_selection\": {\n",
      "        \"stfn\": \"mean\",\n",
      "        \"yr\": 2014,\n",
      "        \"mo\": 6,\n",
      "        \"xly\": \"monthly\"\n",
      "    },\n",
      "    \"bounds\": {\n",
      "        \"lat_min\": -28.135,\n",
      "        \"lat_max\": -28.105,\n",
      "        \"lon_min\": 152.855,\n",
      "        \"lon_max\": 152.875\n",
      "    }\n",
      "}\n"
     ]
    }
   ],
   "source": [
    "import json\n",
    "\n",
    "with ZipFile(filepath) as z:\n",
    "    with z.open('metadata.json') as zf:\n",
    "        data = json.load(zf)\n",
    "        print(json.dumps(data, indent=4))"
   ]
  },
  {
   "cell_type": "markdown",
   "metadata": {},
   "source": [
    "### Process TIFF File"
   ]
  },
  {
   "cell_type": "code",
   "execution_count": 25,
   "metadata": {},
   "outputs": [
    {
     "data": {
      "text/plain": [
       "{'meta': {'driver': 'GTiff',\n",
       "  'dtype': 'float32',\n",
       "  'nodata': None,\n",
       "  'width': 3,\n",
       "  'height': 4,\n",
       "  'count': 1,\n",
       "  'crs': CRS.from_dict(init='epsg:4462'),\n",
       "  'transform': Affine(0.010000000000005116, 0.0, 152.85,\n",
       "         0.0, -0.010000000000000378, -28.1)},\n",
       " 'bounds': BoundingBox(left=152.85, bottom=-28.140000000000004, right=152.88, top=-28.1),\n",
       " 'resolution': (0.010000000000005116, 0.010000000000000378),\n",
       " 'tags': <function DatasetReader.tags>,\n",
       " 'indexes': (1,),\n",
       " 'name': 'data/outputs/temp_max.tif',\n",
       " 'mode': 'r'}"
      ]
     },
     "execution_count": 25,
     "metadata": {},
     "output_type": "execute_result"
    }
   ],
   "source": [
    "import rasterio as rio\n",
    "\n",
    "with ZipFile(filepath) as z:\n",
    "    tf = z.extract('temp_max.tif', path='data/outputs')\n",
    "    rds = rio.open(tf)\n",
    "        \n",
    "data = {  # gather all the attrs together\n",
    "    'meta': rds.meta,\n",
    "    'bounds': rds.bounds,\n",
    "    'resolution': rds.res,\n",
    "    'tags': rds.tags, \n",
    "    'indexes': rds.indexes,\n",
    "    'name': rds.name, \n",
    "    'mode': rds.mode\n",
    "}\n",
    "data  # notice count: 1, means 1 layer"
   ]
  },
  {
   "cell_type": "code",
   "execution_count": 26,
   "metadata": {},
   "outputs": [
    {
     "data": {
      "text/plain": [
       "array([[21.640259, 21.457794, 22.230024],\n",
       "       [22.126766, 22.104393, 22.238274],\n",
       "       [22.113098, 22.146233, 22.215727],\n",
       "       [21.950369, 21.940153, 22.0892  ]], dtype=float32)"
      ]
     },
     "execution_count": 26,
     "metadata": {},
     "output_type": "execute_result"
    }
   ],
   "source": [
    "rds.read(1)"
   ]
  },
  {
   "cell_type": "code",
   "execution_count": 27,
   "metadata": {},
   "outputs": [
    {
     "data": {
      "image/png": "[encoded data removed]",
      "text/plain": [
       "<Figure size 432x288 with 2 Axes>"
      ]
     },
     "metadata": {
      "needs_background": "light"
     },
     "output_type": "display_data"
    }
   ],
   "source": [
    "from matplotlib import pyplot\n",
    "axs = pyplot.imshow(rds.read(1), cmap='coolwarm', origin='lower',\n",
    "                    extent=(rds.bounds.left, rds.bounds.right, rds.bounds.top, rds.bounds.bottom))\n",
    "pyplot.colorbar(label='Max Temperature [degrees_Celsius]')\n",
    "pyplot.show()"
   ]
  },
  {
   "cell_type": "markdown",
   "metadata": {},
   "source": [
    "## Execute a Single Location Process¶"
   ]
  },
  {
   "cell_type": "code",
   "execution_count": 28,
   "metadata": {},
   "outputs": [
    {
     "data": {
      "text/plain": [
       "'ProcessAccepted'"
      ]
     },
     "execution_count": 28,
     "metadata": {},
     "output_type": "execute_result"
    }
   ],
   "source": [
    "processid = 'process_single_location_one_year_all_months'\n",
    "inputs = [\n",
    "    (\"variables\", \"temp_max\"), (\"variables\", \"temp_min\"), (\"variables\", \"rainfall\"),\n",
    "    (\"stfn\", \"mean\"),\n",
    "    (\"lat\", \"-28.135\"), (\"lon\", \"152.875\"),\n",
    "    (\"year\", \"2014\") \n",
    "]\n",
    "output = \"OUTPUT\"\n",
    "execution = wps.execute(processid, inputs, output = \"OUTPUT\")\n",
    "execution.getStatus()"
   ]
  },
  {
   "cell_type": "code",
   "execution_count": 29,
   "metadata": {},
   "outputs": [
    {
     "name": "stdout",
     "output_type": "stream",
     "text": [
      "Execution status: ProcessStarted\n",
      "Execution status: ProcessStarted\n",
      "Execution status: ProcessSucceeded\n"
     ]
    }
   ],
   "source": [
    "monitor_execution(execution, sleepSecs=30, download=True, filepath='workspace/data/outputs/out20200825T1113.zip')"
   ]
  },
  {
   "cell_type": "markdown",
   "metadata": {},
   "source": [
    "### Process the NetCDF File"
   ]
  },
  {
   "cell_type": "code",
   "execution_count": 32,
   "metadata": {},
   "outputs": [],
   "source": [
    "filepath='workspace/data/outputs/out20200825T1113.zip'"
   ]
  },
  {
   "cell_type": "code",
   "execution_count": 33,
   "metadata": {},
   "outputs": [
    {
     "data": {
      "text/plain": [
       "<xarray.Dataset>\n",
       "Dimensions:   (time: 12)\n",
       "Coordinates:\n",
       "  * time      (time) datetime64[ns] 2014-01-01 2014-02-01 ... 2014-12-01\n",
       "    lat       float64 -28.14\n",
       "    lon       float64 152.9\n",
       "Data variables:\n",
       "    rainfall  (time) float32 0.72476166 0.12324161 ... 2.4187658 5.6371284\n",
       "    temp_max  (time) float32 31.622938 31.050322 ... 32.10772 30.764874\n",
       "    temp_min  (time) float32 18.594612 18.26295 17.146334 ... 17.80273 18.621477\n",
       "Attributes:\n",
       "    geospatial_lat_min:         -28.135\n",
       "    geospatial_lat_max:         -28.135\n",
       "    geospatial_lat_units:       degrees_north\n",
       "    geospatial_lat_resolution:  0.01\n",
       "    geospatial_lon_min:         152.875\n",
       "    geospatial_lon_max:         152.875\n",
       "    geospatial_lon_units:       degrees_east\n",
       "    geospatial_lon_resolution:  0.01\n",
       "    DOI:                        to be added\n",
       "    licence_data_access:        These data can be freely downloaded and used\n",
       "    keywords:                   EARTH SCIENCE > ATMOSPHERE\n",
       "    summary:                    ANU Daily Data Cubes Sliced and Aggregated\n",
       "    spatial_coverage:           Australia\n",
       "    acknowledgement:            The creation of this data was funded by ecoCo...\n",
       "    title:                      ANU Daily Data Cubes Aggregated\n",
       "    institution:                Griffith University, Queensland\n",
       "    contributor_name:           Silvereye, ecoCommons\n",
       "    license:                    Attribution 4.0 International\n",
       "    cdm_data_type:              grid\n",
       "    contact:                    ecocommons@ecocommons.org.au\n",
       "    source:                     ANUClimate_v1_1\n",
       "    date_created:               2020-08-25\n",
       "    publisher_name:             Silvereye microservice, ecoCommons Australia\n",
       "    publisher_url:              https://ecocommons.org.au\n",
       "    publisher_email:            ecocommons@ecocommons.org.au"
      ]
     },
     "execution_count": 33,
     "metadata": {},
     "output_type": "execute_result"
    }
   ],
   "source": [
    "import xarray as xr\n",
    "\n",
    "with ZipFile(filepath) as z:\n",
    "    res = z.extract('result.nc', path='workspace/data/outputs/')\n",
    "xds = xr.load_dataset(res)\n",
    "xds"
   ]
  },
  {
   "cell_type": "code",
   "execution_count": 34,
   "metadata": {},
   "outputs": [
    {
     "data": {
      "text/plain": [
       "[<matplotlib.lines.Line2D at 0x7faca7b81908>]"
      ]
     },
     "execution_count": 34,
     "metadata": {},
     "output_type": "execute_result"
    },
    {
     "data": {
      "image/png": "[encoded data removed]",
      "text/plain": [
       "<Figure size 432x288 with 1 Axes>"
      ]
     },
     "metadata": {
      "needs_background": "light"
     },
     "output_type": "display_data"
    }
   ],
   "source": [
    "xds['temp_max'].plot()"
   ]
  },
  {
   "cell_type": "markdown",
   "metadata": {},
   "source": [
    "### Zip File Contents"
   ]
  },
  {
   "cell_type": "code",
   "execution_count": 35,
   "metadata": {},
   "outputs": [
    {
     "name": "stdout",
     "output_type": "stream",
     "text": [
      "['temp_min.png', 'rainfall.png', 'metadata.json', 'rainfall.csv', 'temp_min.csv', 'result.png', 'temp_max.csv', 'result.csv', 'result.nc', 'temp_max.png']\n"
     ]
    }
   ],
   "source": [
    "from zipfile import ZipFile\n",
    "f = ZipFile(filepath)\n",
    "print(f.namelist())\n",
    "f.close()"
   ]
  },
  {
   "cell_type": "markdown",
   "metadata": {},
   "source": [
    "### Metadata Results"
   ]
  },
  {
   "cell_type": "code",
   "execution_count": 36,
   "metadata": {},
   "outputs": [
    {
     "name": "stdout",
     "output_type": "stream",
     "text": [
      "{\n",
      "    \"spatial_selection_type\": \"single_location\",\n",
      "    \"process_name\": \"process_single_location_one_year_all_months\",\n",
      "    \"variables\": [\n",
      "        \"rainfall\",\n",
      "        \"temp_max\",\n",
      "        \"temp_min\"\n",
      "    ],\n",
      "    \"time_selection\": {\n",
      "        \"stfn\": \"mean\",\n",
      "        \"yr\": 2014,\n",
      "        \"xly\": \"monthly\"\n",
      "    },\n",
      "    \"coords\": {\n",
      "        \"lat\": -28.135,\n",
      "        \"lon\": 152.875\n",
      "    }\n",
      "}\n"
     ]
    }
   ],
   "source": [
    "import json\n",
    "\n",
    "with ZipFile(filepath) as z:\n",
    "    with z.open('metadata.json') as zf:\n",
    "        data = json.load(zf)\n",
    "        print(json.dumps(data, indent=4))"
   ]
  },
  {
   "cell_type": "markdown",
   "metadata": {},
   "source": [
    "### Show PNG File"
   ]
  },
  {
   "cell_type": "code",
   "execution_count": 37,
   "metadata": {},
   "outputs": [
    {
     "data": {
      "image/png": "[encoded data removed]",
      "text/plain": [
       "<IPython.core.display.Image object>"
      ]
     },
     "metadata": {
      "image/png": {
       "height": 400,
       "width": 600
      }
     },
     "output_type": "display_data"
    }
   ],
   "source": [
    "from IPython.display import Image, display\n",
    "\n",
    "with ZipFile(filepath) as z:\n",
    "    fp = z.extract('result.png', 'workspace/data/outputs')\n",
    "    display(Image(fp, width=600, height=400)) "
   ]
  },
  {
   "cell_type": "markdown",
   "metadata": {},
   "source": [
    "### CSV Result"
   ]
  },
  {
   "cell_type": "code",
   "execution_count": 38,
   "metadata": {},
   "outputs": [
    {
     "data": {
      "text/html": [
       "<div>\n",
       "<style scoped>\n",
       "    .dataframe tbody tr th:only-of-type {\n",
       "        vertical-align: middle;\n",
       "    }\n",
       "\n",
       "    .dataframe tbody tr th {\n",
       "        vertical-align: top;\n",
       "    }\n",
       "\n",
       "    .dataframe thead th {\n",
       "        text-align: right;\n",
       "    }\n",
       "</style>\n",
       "<table border=\"1\" class=\"dataframe\">\n",
       "  <thead>\n",
       "    <tr style=\"text-align: right;\">\n",
       "      <th></th>\n",
       "      <th>time</th>\n",
       "      <th>lat</th>\n",
       "      <th>lon</th>\n",
       "      <th>rainfall</th>\n",
       "      <th>temp_max</th>\n",
       "      <th>temp_min</th>\n",
       "    </tr>\n",
       "  </thead>\n",
       "  <tbody>\n",
       "    <tr>\n",
       "      <td>0</td>\n",
       "      <td>2014-01-01</td>\n",
       "      <td>-28.135</td>\n",
       "      <td>152.875</td>\n",
       "      <td>0.724762</td>\n",
       "      <td>31.622938</td>\n",
       "      <td>18.594612</td>\n",
       "    </tr>\n",
       "    <tr>\n",
       "      <td>1</td>\n",
       "      <td>2014-02-01</td>\n",
       "      <td>-28.135</td>\n",
       "      <td>152.875</td>\n",
       "      <td>0.123242</td>\n",
       "      <td>31.050322</td>\n",
       "      <td>18.262950</td>\n",
       "    </tr>\n",
       "    <tr>\n",
       "      <td>2</td>\n",
       "      <td>2014-03-01</td>\n",
       "      <td>-28.135</td>\n",
       "      <td>152.875</td>\n",
       "      <td>4.645188</td>\n",
       "      <td>29.586979</td>\n",
       "      <td>17.146334</td>\n",
       "    </tr>\n",
       "    <tr>\n",
       "      <td>3</td>\n",
       "      <td>2014-04-01</td>\n",
       "      <td>-28.135</td>\n",
       "      <td>152.875</td>\n",
       "      <td>0.373490</td>\n",
       "      <td>27.641436</td>\n",
       "      <td>14.195909</td>\n",
       "    </tr>\n",
       "    <tr>\n",
       "      <td>4</td>\n",
       "      <td>2014-05-01</td>\n",
       "      <td>-28.135</td>\n",
       "      <td>152.875</td>\n",
       "      <td>0.506197</td>\n",
       "      <td>23.794106</td>\n",
       "      <td>10.243060</td>\n",
       "    </tr>\n",
       "    <tr>\n",
       "      <td>5</td>\n",
       "      <td>2014-06-01</td>\n",
       "      <td>-28.135</td>\n",
       "      <td>152.875</td>\n",
       "      <td>0.613396</td>\n",
       "      <td>21.331255</td>\n",
       "      <td>7.175688</td>\n",
       "    </tr>\n",
       "    <tr>\n",
       "      <td>6</td>\n",
       "      <td>2014-07-01</td>\n",
       "      <td>-28.135</td>\n",
       "      <td>152.875</td>\n",
       "      <td>0.273421</td>\n",
       "      <td>21.467100</td>\n",
       "      <td>2.847722</td>\n",
       "    </tr>\n",
       "    <tr>\n",
       "      <td>7</td>\n",
       "      <td>2014-08-01</td>\n",
       "      <td>-28.135</td>\n",
       "      <td>152.875</td>\n",
       "      <td>2.018164</td>\n",
       "      <td>21.816788</td>\n",
       "      <td>6.983506</td>\n",
       "    </tr>\n",
       "    <tr>\n",
       "      <td>8</td>\n",
       "      <td>2014-09-01</td>\n",
       "      <td>-28.135</td>\n",
       "      <td>152.875</td>\n",
       "      <td>0.646114</td>\n",
       "      <td>25.364664</td>\n",
       "      <td>8.534827</td>\n",
       "    </tr>\n",
       "    <tr>\n",
       "      <td>9</td>\n",
       "      <td>2014-10-01</td>\n",
       "      <td>-28.135</td>\n",
       "      <td>152.875</td>\n",
       "      <td>0.261359</td>\n",
       "      <td>29.705664</td>\n",
       "      <td>12.518283</td>\n",
       "    </tr>\n",
       "    <tr>\n",
       "      <td>10</td>\n",
       "      <td>2014-11-01</td>\n",
       "      <td>-28.135</td>\n",
       "      <td>152.875</td>\n",
       "      <td>2.418766</td>\n",
       "      <td>32.107720</td>\n",
       "      <td>17.802730</td>\n",
       "    </tr>\n",
       "    <tr>\n",
       "      <td>11</td>\n",
       "      <td>2014-12-01</td>\n",
       "      <td>-28.135</td>\n",
       "      <td>152.875</td>\n",
       "      <td>5.637128</td>\n",
       "      <td>30.764874</td>\n",
       "      <td>18.621477</td>\n",
       "    </tr>\n",
       "  </tbody>\n",
       "</table>\n",
       "</div>"
      ],
      "text/plain": [
       "          time     lat      lon  rainfall   temp_max   temp_min\n",
       "0   2014-01-01 -28.135  152.875  0.724762  31.622938  18.594612\n",
       "1   2014-02-01 -28.135  152.875  0.123242  31.050322  18.262950\n",
       "2   2014-03-01 -28.135  152.875  4.645188  29.586979  17.146334\n",
       "3   2014-04-01 -28.135  152.875  0.373490  27.641436  14.195909\n",
       "4   2014-05-01 -28.135  152.875  0.506197  23.794106  10.243060\n",
       "5   2014-06-01 -28.135  152.875  0.613396  21.331255   7.175688\n",
       "6   2014-07-01 -28.135  152.875  0.273421  21.467100   2.847722\n",
       "7   2014-08-01 -28.135  152.875  2.018164  21.816788   6.983506\n",
       "8   2014-09-01 -28.135  152.875  0.646114  25.364664   8.534827\n",
       "9   2014-10-01 -28.135  152.875  0.261359  29.705664  12.518283\n",
       "10  2014-11-01 -28.135  152.875  2.418766  32.107720  17.802730\n",
       "11  2014-12-01 -28.135  152.875  5.637128  30.764874  18.621477"
      ]
     },
     "execution_count": 38,
     "metadata": {},
     "output_type": "execute_result"
    }
   ],
   "source": [
    "import pandas as pd\n",
    "\n",
    "with ZipFile(filepath) as z:\n",
    "    with z.open('result.csv') as zf:\n",
    "        df = pd.read_csv(zf)\n",
    "df"
   ]
  },
  {
   "cell_type": "markdown",
   "metadata": {},
   "source": [
    "## Execute a Predefined Region Process"
   ]
  },
  {
   "cell_type": "code",
   "execution_count": 39,
   "metadata": {},
   "outputs": [
    {
     "data": {
      "text/plain": [
       "'ProcessAccepted'"
      ]
     },
     "execution_count": 39,
     "metadata": {},
     "output_type": "execute_result"
    }
   ],
   "source": [
    "processid = 'process_predefined_region_one_year_month_range'\n",
    "inputs = [ \n",
    "    (\"variables\", \"temp_max\"), (\"variables\", \"temp_min\"), (\"variables\", \"rainfall\"),\n",
    "    (\"stfn\", \"mean\"),\n",
    "    (\"year\", \"2014\"), (\"month_min\", \"4\"), (\"month_max\", \"9\"), \n",
    "    (\"gdb_name\", \"ibra7_subregions_states\"), (\"rec_id\", \"347_QLD\")\n",
    "]\n",
    "output = \"OUTPUT\"\n",
    "execution = wps.execute(processid, inputs, output = \"OUTPUT\")\n",
    "execution.getStatus()"
   ]
  },
  {
   "cell_type": "code",
   "execution_count": 44,
   "metadata": {},
   "outputs": [],
   "source": [
    "monitor_execution(execution, sleepSecs=20, download=True, filepath='workspace/data/outputs/out20200825T1136.zip')"
   ]
  },
  {
   "cell_type": "code",
   "execution_count": 45,
   "metadata": {},
   "outputs": [],
   "source": [
    "filepath='workspace/data/outputs/out20200825T1136.zip'"
   ]
  },
  {
   "cell_type": "markdown",
   "metadata": {},
   "source": [
    "### Zip Contents"
   ]
  },
  {
   "cell_type": "code",
   "execution_count": 46,
   "metadata": {},
   "outputs": [
    {
     "name": "stdout",
     "output_type": "stream",
     "text": [
      "['result.zarr', 'metadata.json', 'rainfall.csv', 'temp_min.csv', 'temp_min.tif', 'temp_max.tif', 'rainfall.tif', 'temp_max.csv', 'result.csv', 'result.nc']\n"
     ]
    }
   ],
   "source": [
    "from zipfile import ZipFile\n",
    "\n",
    "f = ZipFile(filepath)\n",
    "print(f.namelist())\n",
    "f.close()"
   ]
  },
  {
   "cell_type": "markdown",
   "metadata": {},
   "source": [
    "### Process the NetCDF Result"
   ]
  },
  {
   "cell_type": "code",
   "execution_count": 47,
   "metadata": {},
   "outputs": [
    {
     "data": {
      "text/plain": [
       "<xarray.Dataset>\n",
       "Dimensions:      (lat: 183, lon: 73, time: 6)\n",
       "Coordinates:\n",
       "  * lat          (lat) float64 -28.18 -28.16 -28.16 ... -26.36 -26.36 -26.34\n",
       "  * lon          (lon) float64 152.8 152.8 152.8 152.9 ... 153.5 153.5 153.5\n",
       "  * time         (time) datetime64[ns] 2014-04-01 2014-05-01 ... 2014-09-01\n",
       "    spatial_ref  int32 0\n",
       "Data variables:\n",
       "    rainfall     (time, lat, lon) float32 nan nan nan nan ... nan nan nan nan\n",
       "    temp_max     (time, lat, lon) float32 nan nan nan nan ... nan nan nan nan\n",
       "    temp_min     (time, lat, lon) float32 nan nan nan nan ... nan nan nan nan\n",
       "Attributes:\n",
       "    geospatial_lat_min:         -28.175\n",
       "    geospatial_lat_max:         -26.335\n",
       "    geospatial_lat_units:       degrees_north\n",
       "    geospatial_lat_resolution:  0.01\n",
       "    geospatial_lon_min:         152.825\n",
       "    geospatial_lon_max:         153.545\n",
       "    geospatial_lon_units:       degrees_east\n",
       "    geospatial_lon_resolution:  0.01\n",
       "    DOI:                        to be added\n",
       "    licence_data_access:        These data can be freely downloaded and used\n",
       "    keywords:                   EARTH SCIENCE > ATMOSPHERE\n",
       "    summary:                    ANU Daily Data Cubes Sliced and Aggregated\n",
       "    spatial_coverage:           Australia\n",
       "    acknowledgement:            The creation of this data was funded by ecoCo...\n",
       "    title:                      ANU Daily Data Cubes Aggregated\n",
       "    institution:                Griffith University, Queensland\n",
       "    contributor_name:           Silvereye, ecoCommons\n",
       "    license:                    Attribution 4.0 International\n",
       "    cdm_data_type:              grid\n",
       "    contact:                    ecocommons@ecocommons.org.au\n",
       "    source:                     ANUClimate_v1_1\n",
       "    date_created:               2020-08-25\n",
       "    publisher_name:             Silvereye microservice, ecoCommons Australia\n",
       "    publisher_url:              https://ecocommons.org.au\n",
       "    publisher_email:            ecocommons@ecocommons.org.au\n",
       "    grid_mapping:               spatial_ref"
      ]
     },
     "execution_count": 47,
     "metadata": {},
     "output_type": "execute_result"
    }
   ],
   "source": [
    "import xarray as xr\n",
    "\n",
    "with ZipFile(filepath) as z:\n",
    "    res = z.extract('result.nc', path='workspace/data/outputs/') \n",
    "xds = xr.load_dataset(res)\n",
    "xds"
   ]
  },
  {
   "cell_type": "code",
   "execution_count": 48,
   "metadata": {},
   "outputs": [
    {
     "data": {
      "text/plain": [
       "<matplotlib.collections.QuadMesh at 0x7faca7ae5630>"
      ]
     },
     "execution_count": 48,
     "metadata": {},
     "output_type": "execute_result"
    },
    {
     "data": {
      "image/png": "[encoded data removed]",
      "text/plain": [
       "<Figure size 432x288 with 2 Axes>"
      ]
     },
     "metadata": {
      "needs_background": "light"
     },
     "output_type": "display_data"
    }
   ],
   "source": [
    "\n",
    "xds['temp_max'].sel({'time': '2014-06-01'}).plot()"
   ]
  },
  {
   "cell_type": "markdown",
   "metadata": {},
   "source": [
    "### CSV Results"
   ]
  },
  {
   "cell_type": "code",
   "execution_count": 55,
   "metadata": {},
   "outputs": [
    {
     "data": {
      "text/html": [
       "<div>\n",
       "<style scoped>\n",
       "    .dataframe tbody tr th:only-of-type {\n",
       "        vertical-align: middle;\n",
       "    }\n",
       "\n",
       "    .dataframe tbody tr th {\n",
       "        vertical-align: top;\n",
       "    }\n",
       "\n",
       "    .dataframe thead th {\n",
       "        text-align: right;\n",
       "    }\n",
       "</style>\n",
       "<table border=\"1\" class=\"dataframe\">\n",
       "  <thead>\n",
       "    <tr style=\"text-align: right;\">\n",
       "      <th></th>\n",
       "      <th>lat</th>\n",
       "      <th>lon</th>\n",
       "      <th>time</th>\n",
       "      <th>spatial_ref</th>\n",
       "      <th>rainfall</th>\n",
       "      <th>temp_max</th>\n",
       "      <th>temp_min</th>\n",
       "    </tr>\n",
       "  </thead>\n",
       "  <tbody>\n",
       "    <tr>\n",
       "      <td>0</td>\n",
       "      <td>-28.175</td>\n",
       "      <td>152.825</td>\n",
       "      <td>2014-04-01</td>\n",
       "      <td>0</td>\n",
       "      <td>NaN</td>\n",
       "      <td>NaN</td>\n",
       "      <td>NaN</td>\n",
       "    </tr>\n",
       "    <tr>\n",
       "      <td>1</td>\n",
       "      <td>-28.175</td>\n",
       "      <td>152.825</td>\n",
       "      <td>2014-05-01</td>\n",
       "      <td>0</td>\n",
       "      <td>NaN</td>\n",
       "      <td>NaN</td>\n",
       "      <td>NaN</td>\n",
       "    </tr>\n",
       "    <tr>\n",
       "      <td>2</td>\n",
       "      <td>-28.175</td>\n",
       "      <td>152.825</td>\n",
       "      <td>2014-06-01</td>\n",
       "      <td>0</td>\n",
       "      <td>NaN</td>\n",
       "      <td>NaN</td>\n",
       "      <td>NaN</td>\n",
       "    </tr>\n",
       "    <tr>\n",
       "      <td>3</td>\n",
       "      <td>-28.175</td>\n",
       "      <td>152.825</td>\n",
       "      <td>2014-07-01</td>\n",
       "      <td>0</td>\n",
       "      <td>NaN</td>\n",
       "      <td>NaN</td>\n",
       "      <td>NaN</td>\n",
       "    </tr>\n",
       "    <tr>\n",
       "      <td>4</td>\n",
       "      <td>-28.175</td>\n",
       "      <td>152.825</td>\n",
       "      <td>2014-08-01</td>\n",
       "      <td>0</td>\n",
       "      <td>NaN</td>\n",
       "      <td>NaN</td>\n",
       "      <td>NaN</td>\n",
       "    </tr>\n",
       "  </tbody>\n",
       "</table>\n",
       "</div>"
      ],
      "text/plain": [
       "      lat      lon        time  spatial_ref  rainfall  temp_max  temp_min\n",
       "0 -28.175  152.825  2014-04-01            0       NaN       NaN       NaN\n",
       "1 -28.175  152.825  2014-05-01            0       NaN       NaN       NaN\n",
       "2 -28.175  152.825  2014-06-01            0       NaN       NaN       NaN\n",
       "3 -28.175  152.825  2014-07-01            0       NaN       NaN       NaN\n",
       "4 -28.175  152.825  2014-08-01            0       NaN       NaN       NaN"
      ]
     },
     "execution_count": 55,
     "metadata": {},
     "output_type": "execute_result"
    }
   ],
   "source": [
    "import pandas as pd\n",
    "\n",
    "with ZipFile(filepath) as z:\n",
    "    with z.open('result.csv') as zf:\n",
    "        df = pd.read_csv(zf)\n",
    "df.head()"
   ]
  },
  {
   "cell_type": "markdown",
   "metadata": {},
   "source": [
    "### Metadata.json"
   ]
  },
  {
   "cell_type": "code",
   "execution_count": 56,
   "metadata": {},
   "outputs": [
    {
     "name": "stdout",
     "output_type": "stream",
     "text": [
      "{\n",
      "    \"spatial_selection_type\": \"predefined_region\",\n",
      "    \"process_name\": \"process_predefined_region_one_year_month_range\",\n",
      "    \"variables\": [\n",
      "        \"rainfall\",\n",
      "        \"temp_max\",\n",
      "        \"temp_min\"\n",
      "    ],\n",
      "    \"time_selection\": {\n",
      "        \"yr\": 2014,\n",
      "        \"mos\": [\n",
      "            4,\n",
      "            9\n",
      "        ],\n",
      "        \"xly\": \"monthly\",\n",
      "        \"stfn\": \"mean\"\n",
      "    },\n",
      "    \"bounds\": {\n",
      "        \"lat_min\": -28.17702000000003,\n",
      "        \"lat_max\": -26.33033062499999,\n",
      "        \"lon_min\": 152.81753281,\n",
      "        \"lon_max\": 153.55292\n",
      "    },\n",
      "    \"predefined_region\": {\n",
      "        \"rec_id\": \"347_QLD\",\n",
      "        \"sta_code\": \"QLD\",\n",
      "        \"reg_code\": \"SEQ\",\n",
      "        \"reg_name\": \"South Eastern Queensland\",\n",
      "        \"sub_code\": \"SEQ04\",\n",
      "        \"sub_name\": \"Sunshine Coast-Gold Coast Lowlands\",\n",
      "        \"gdb_name\": \"ibra7_subregions_states\"\n",
      "    }\n",
      "}\n"
     ]
    }
   ],
   "source": [
    "import json\n",
    "\n",
    "with ZipFile(filepath) as z:\n",
    "    with z.open('metadata.json') as zf:\n",
    "        data = json.load(zf)\n",
    "        print(json.dumps(data, indent=4))"
   ]
  },
  {
   "cell_type": "markdown",
   "metadata": {},
   "source": [
    "### TIFF File"
   ]
  },
  {
   "cell_type": "code",
   "execution_count": 58,
   "metadata": {},
   "outputs": [
    {
     "data": {
      "text/plain": [
       "{'meta': {'driver': 'GTiff',\n",
       "  'dtype': 'float32',\n",
       "  'nodata': None,\n",
       "  'width': 73,\n",
       "  'height': 183,\n",
       "  'count': 6,\n",
       "  'crs': CRS.from_dict(init='epsg:4462'),\n",
       "  'transform': Affine(0.009999999999999985, 0.0, 152.82,\n",
       "         0.0, 0.010054945054945065, -28.180027472527474)},\n",
       " 'bounds': BoundingBox(left=152.82, bottom=-26.339972527472526, right=153.54999999999998, top=-28.180027472527474),\n",
       " 'resolution': (0.009999999999999985, -0.010054945054945065),\n",
       " 'tags': <function DatasetReader.tags>,\n",
       " 'indexes': (1, 2, 3, 4, 5, 6),\n",
       " 'name': 'workspace/data/outputs/temp_max.tif',\n",
       " 'mode': 'r'}"
      ]
     },
     "execution_count": 58,
     "metadata": {},
     "output_type": "execute_result"
    }
   ],
   "source": [
    "import rasterio as rio\n",
    "\n",
    "with ZipFile(filepath) as z:\n",
    "    tf = z.extract('temp_max.tif', path='workspace/data/outputs')\n",
    "    rds = rio.open(tf)\n",
    "        \n",
    "data = {  # gather all the attrs together\n",
    "    'meta': rds.meta,\n",
    "    'bounds': rds.bounds,\n",
    "    'resolution': rds.res,\n",
    "    'tags': rds.tags, \n",
    "    'indexes': rds.indexes,\n",
    "    'name': rds.name, \n",
    "    'mode': rds.mode\n",
    "}\n",
    "data  # notice count: 1, means 1 layer"
   ]
  },
  {
   "cell_type": "code",
   "execution_count": 59,
   "metadata": {},
   "outputs": [
    {
     "data": {
      "image/png": "[encoded data removed]",
      "text/plain": [
       "<Figure size 432x288 with 2 Axes>"
      ]
     },
     "metadata": {
      "needs_background": "light"
     },
     "output_type": "display_data"
    }
   ],
   "source": [
    "from matplotlib import pyplot\n",
    "axs = pyplot.imshow(rds.read(1), cmap='coolwarm', origin='lower',\n",
    "                    extent=(rds.bounds.left, rds.bounds.right, rds.bounds.top, rds.bounds.bottom))\n",
    "pyplot.colorbar(label='Max Temperature [degrees_Celsius]')\n",
    "pyplot.show()"
   ]
  },
  {
   "cell_type": "code",
   "execution_count": null,
   "metadata": {},
   "outputs": [],
   "source": []
  }
 ],
 "metadata": {
  "kernelspec": {
   "display_name": "Python [conda env:py36]",
   "language": "python",
   "name": "conda-env-py36-py"
  },
  "language_info": {
   "codemirror_mode": {
    "name": "ipython",
    "version": 3
   },
   "file_extension": ".py",
   "mimetype": "text/x-python",
   "name": "python",
   "nbconvert_exporter": "python",
   "pygments_lexer": "ipython3",
   "version": "3.6.9"
  }
 },
 "nbformat": 4,
 "nbformat_minor": 4
}
