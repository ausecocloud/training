{
 "cells": [
  {
   "cell_type": "markdown",
   "metadata": {},
   "source": [
    "# Dynamic Land Cover (dylancov) micro-service (2020-10-06)"
   ]
  },
  {
   "cell_type": "code",
   "execution_count": 1,
   "metadata": {},
   "outputs": [
    {
     "data": {
      "text/plain": [
       "'WPS'"
      ]
     },
     "execution_count": 1,
     "metadata": {},
     "output_type": "execute_result"
    }
   ],
   "source": [
    "from owslib.wps import WebProcessingService\n",
    "wps = WebProcessingService('https://api.dylancov.bccvl.org.au/wps', verbose=False, skip_caps=True)\n",
    "wps.getcapabilities()\n",
    "wps.identification.type"
   ]
  },
  {
   "cell_type": "code",
   "execution_count": 2,
   "metadata": {},
   "outputs": [
    {
     "data": {
      "text/plain": [
       "'PyWPS Processing Service'"
      ]
     },
     "execution_count": 2,
     "metadata": {},
     "output_type": "execute_result"
    }
   ],
   "source": [
    "wps.identification.title"
   ]
  },
  {
   "cell_type": "code",
   "execution_count": 3,
   "metadata": {},
   "outputs": [
    {
     "data": {
      "text/plain": [
       "'PyWPS is an implementation of the Web Processing Service standard from the Open Geospatial Consortium. PyWPS is written in Python.'"
      ]
     },
     "execution_count": 3,
     "metadata": {},
     "output_type": "execute_result"
    }
   ],
   "source": [
    "wps.identification.abstract"
   ]
  },
  {
   "cell_type": "code",
   "execution_count": 4,
   "metadata": {},
   "outputs": [
    {
     "name": "stdout",
     "output_type": "stream",
     "text": [
      "GetCapabilities\n",
      "DescribeProcess\n",
      "Execute\n"
     ]
    }
   ],
   "source": [
    "for operation in wps.operations:\n",
    "    print(operation.name)"
   ]
  },
  {
   "cell_type": "markdown",
   "metadata": {},
   "source": [
    "## What processes are supported?"
   ]
  },
  {
   "cell_type": "code",
   "execution_count": 5,
   "metadata": {},
   "outputs": [
    {
     "name": "stdout",
     "output_type": "stream",
     "text": [
      "               one_wps_process: Dynamic Land Cover (dylancov) combined process for multiple spatial and time selections.\n"
     ]
    }
   ],
   "source": [
    "for process in wps.processes:\n",
    "    print(\"{:>30}: {}\".format(process.identifier, process.title))"
   ]
  },
  {
   "cell_type": "markdown",
   "metadata": {},
   "source": [
    "## Getting Process Descriptions"
   ]
  },
  {
   "cell_type": "code",
   "execution_count": 6,
   "metadata": {},
   "outputs": [
    {
     "data": {
      "text/plain": [
       "'one_wps_process'"
      ]
     },
     "execution_count": 6,
     "metadata": {},
     "output_type": "execute_result"
    }
   ],
   "source": [
    "from owslib.wps import printInputOutput\n",
    "process = wps.describeprocess('one_wps_process')\n",
    "process.identifier"
   ]
  },
  {
   "cell_type": "code",
   "execution_count": 7,
   "metadata": {},
   "outputs": [
    {
     "data": {
      "text/plain": [
       "'Dynamic Land Cover (dylancov) combined process for multiple spatial and time selections.'"
      ]
     },
     "execution_count": 7,
     "metadata": {},
     "output_type": "execute_result"
    }
   ],
   "source": [
    "process.title"
   ]
  },
  {
   "cell_type": "code",
   "execution_count": 8,
   "metadata": {},
   "outputs": [
    {
     "data": {
      "text/plain": [
       "\"Single entry point for all of dylancov's functions.\""
      ]
     },
     "execution_count": 8,
     "metadata": {},
     "output_type": "execute_result"
    }
   ],
   "source": [
    "process.abstract"
   ]
  },
  {
   "cell_type": "code",
   "execution_count": 9,
   "metadata": {},
   "outputs": [
    {
     "name": "stdout",
     "output_type": "stream",
     "text": [
      " identifier=spatial_selection_type, title=Type of selection in space, abstract=None, data type=string\n",
      " Allowed Value: rectangular_region\n",
      " Allowed Value: single_location\n",
      " Allowed Value: predefined_region\n",
      " Allowed Value: polygon\n",
      " Default Value: None \n",
      " minOccurs=1, maxOccurs=1\n",
      "\n",
      " identifier=time_selection_type, title=Type of selection in time, abstract=None, data type=string\n",
      " Allowed Value: one_year\n",
      " Allowed Value: years\n",
      " Default Value: None \n",
      " minOccurs=1, maxOccurs=1\n",
      "\n",
      " identifier=categories, title=Categories to extract, abstract=None, data type=string\n",
      " Default Value: None \n",
      " minOccurs=1, maxOccurs=1\n",
      "\n",
      " identifier=year, title=Year to process, in range 2002:2014, abstract=None, data type=integer\n",
      " Default Value: None \n",
      " minOccurs=0, maxOccurs=1\n",
      "\n",
      " identifier=year_min, title=Year to process from, in range 2002:2014, abstract=None, data type=integer\n",
      " Default Value: None \n",
      " minOccurs=0, maxOccurs=1\n",
      "\n",
      " identifier=year_max, title=Year to process to, in range 2002:2014, abstract=None, data type=integer\n",
      " Default Value: None \n",
      " minOccurs=0, maxOccurs=1\n",
      "\n",
      " identifier=lat, title=Latitude value to process in range -43.735:-9.005, abstract=None, data type=float\n",
      " Default Value: None \n",
      " minOccurs=0, maxOccurs=1\n",
      "\n",
      " identifier=lat_min, title=Latitude value to process from, in range -43.735:-9.005, abstract=None, data type=float\n",
      " Default Value: None \n",
      " minOccurs=0, maxOccurs=1\n",
      "\n",
      " identifier=lat_max, title=Latitude value to process to, in range -43.735:-9.005, abstract=None, data type=float\n",
      " Default Value: None \n",
      " minOccurs=0, maxOccurs=1\n",
      "\n",
      " identifier=lon, title=Longitude value to process in range 112.905:153.995, abstract=None, data type=float\n",
      " Default Value: None \n",
      " minOccurs=0, maxOccurs=1\n",
      "\n",
      " identifier=lon_min, title=Longitude value to process from, in range 112.905:153.995, abstract=None, data type=float\n",
      " Default Value: None \n",
      " minOccurs=0, maxOccurs=1\n",
      "\n",
      " identifier=lon_max, title=Longitude value to process to, in range 112.905:153.995, abstract=None, data type=float\n",
      " Default Value: None \n",
      " minOccurs=0, maxOccurs=1\n",
      "\n",
      " identifier=gdb_name, title=Geo database name (for predefined region)., abstract=None, data type=string\n",
      " Allowed Value: capad2018_terrestrial\n",
      " Allowed Value: ibra7_regions\n",
      " Allowed Value: ibra7_regions_states\n",
      " Allowed Value: ibra7_subregions_states\n",
      " Default Value: None \n",
      " minOccurs=0, maxOccurs=1\n",
      "\n",
      " identifier=rec_id, title=Geo database pk to search for, abstract=None, data type=string\n",
      " Default Value: None \n",
      " minOccurs=0, maxOccurs=1\n",
      "\n",
      " identifier=geometry, title=Geometry (got hand-drawn polygon), abstract=None, data type=string\n",
      " Default Value: None \n",
      " minOccurs=0, maxOccurs=1\n",
      "\n"
     ]
    }
   ],
   "source": [
    "for input in process.dataInputs:\n",
    "    printInputOutput(input)\n",
    "    print()"
   ]
  },
  {
   "cell_type": "code",
   "execution_count": 10,
   "metadata": {},
   "outputs": [
    {
     "name": "stdout",
     "output_type": "stream",
     "text": [
      " identifier=output, title=Metadata, abstract=None, data type=ComplexData\n",
      " Supported Value: mimeType=application/zip, encoding=None, schema=None\n",
      " Default Value: mimeType=application/zip, encoding=None, schema=None \n",
      " reference=None, mimeType=None\n"
     ]
    }
   ],
   "source": [
    "for output in process.processOutputs:\n",
    "    printInputOutput(output)"
   ]
  },
  {
   "cell_type": "markdown",
   "metadata": {},
   "source": [
    "## Understanding Dylancov's Unified WPS API"
   ]
  },
  {
   "cell_type": "markdown",
   "metadata": {},
   "source": [
    "Dylancov's access is through one WPS API process. \n",
    " It is identified by the processid `one_wps_process`.\n",
    "\n",
    "Next, you need to specify a list of  `categories`, integer numbers from 1 to 35.\n",
    "\n",
    "We have 4 types of spatial selections, and 2 types of time selections ( 4 x 2 = 8 combinations). Each have related parameters that must be specified.\n",
    "\n",
    "To specify a spatial selection, you use the parameter `spatial_selection_type`. The options are: `rectangular_region`, `predefined_region`, `single_location`, `polygon`.\n",
    "\n",
    "|Spatial Selection Type|Associated Parameters|\n",
    "|-----------------|--------------------|\n",
    "|rectangular_region|lat_min, lat_max, lon_min, lon_max|\n",
    "|single_location|lat, lon|\n",
    "|predefined_region|gdb_name, rec_id|\n",
    "|polygon|geometry|\n",
    "\n",
    "If you choose the `single_location`, for example, then you need to specify the variables `lat` and `lon`, as shown above.\n",
    "\n",
    "To specify a time selection, you use the parameter `time_selection_type`. It may take one of the following 2 values:\n",
    "\n",
    "|Time Selection Type|Associated Parameters|\n",
    "|-----------------|--------------------|\n",
    "|one_year|year|\n",
    "|years|year_min, year_max|\n",
    "\n",
    "If you choose the `years` type, for example, then additionally, you need to specify the variables `year_min` and `year_max`, as shown above."
   ]
  },
  {
   "cell_type": "markdown",
   "metadata": {},
   "source": [
    "## Execute a Rectangular Region Selection"
   ]
  },
  {
   "cell_type": "markdown",
   "metadata": {},
   "source": [
    "Before we submit a process for execution, lets define a function to allow us to monitor the execution."
   ]
  },
  {
   "cell_type": "code",
   "execution_count": 11,
   "metadata": {},
   "outputs": [],
   "source": [
    "def monitor_execution(execution, sleepSecs=5, download=False, filepath='data/out.zip'):\n",
    "    while execution.isComplete() is False:\n",
    "        execution.checkStatus(sleepSecs=sleepSecs)\n",
    "        print('Execution status: {}'.format(execution.statusMessage))\n",
    "\n",
    "    if execution.isSucceded():\n",
    "        if download:\n",
    "            execution.getOutput(filepath=filepath)\n",
    "        else:\n",
    "            for output in execution.processOutputs:\n",
    "                if output.reference is not None:\n",
    "                    print('Output URL={}'.format(output.reference))\n",
    "    else:\n",
    "        for ex in execution.errors:\n",
    "            print('Error: code={}, locator={}, text={}'.format(ex.code, ex.locator, ex.text))"
   ]
  },
  {
   "cell_type": "markdown",
   "metadata": {},
   "source": [
    "The parameters are the following:\n",
    "- `execution`: the wps process we submitted\n",
    "- `sleepSecs`: how often to report the status (in seconds)\n",
    "- `download`: if we want to download the result, then use `filepath`; otherwise, report a URL.\n",
    "- `filepath`: path to where we want to store the result\n",
    "\n",
    "If the execution terminated with errors, they will be listed. "
   ]
  },
  {
   "cell_type": "markdown",
   "metadata": {},
   "source": [
    "### Request a list of Categories"
   ]
  },
  {
   "cell_type": "markdown",
   "metadata": {},
   "source": [
    "Since the Dynamic Land Cover micro-service uses `categorical` data, \n",
    "that is, numbers that represent categories, \n",
    "we need to get a list of the categories supported."
   ]
  },
  {
   "cell_type": "code",
   "execution_count": 12,
   "metadata": {},
   "outputs": [
    {
     "name": "stdout",
     "output_type": "stream",
     "text": [
      "{\n",
      "    \"data\": {\n",
      "        \"categories\": {\n",
      "            \"by_category\": {\n",
      "                \"extraction sites\": 1,\n",
      "                \"inland waterbodies\": 3,\n",
      "                \"salt lakes\": 4,\n",
      "                \"irrigated cropping\": 5,\n",
      "                \"irrigated pasture\": 6,\n",
      "                \"irrigated sugar\": 7,\n",
      "                \"rainfed cropping\": 8,\n",
      "                \"rainfed pasture\": 9,\n",
      "                \"rainfed sugar\": 10,\n",
      "                \"wetlands\": 11,\n",
      "                \"tussock grasses - closed\": 14,\n",
      "                \"alpine grasses - open\": 15,\n",
      "                \"hummock grasses - closed\": 16,\n",
      "                \"tussock grasses - open\": 18,\n",
      "                \"shrubs and grasses - sparse-scattered\": 19,\n",
      "                \"hummock grasses - open\": 22,\n",
      "                \"shrubs - closed\": 24,\n",
      "                \"shrubs - open\": 25,\n",
      "                \"trees - closed\": 31,\n",
      "                \"trees - open\": 32,\n",
      "                \"trees - scattered\": 33,\n",
      "                \"trees - sparse\": 34,\n",
      "                \"built-up surface\": 35\n",
      "            },\n",
      "            \"by_index\": {\n",
      "                \"1\": \"extraction sites\",\n",
      "                \"3\": \"inland waterbodies\",\n",
      "                \"4\": \"salt lakes\",\n",
      "                \"5\": \"irrigated cropping\",\n",
      "                \"6\": \"irrigated pasture\",\n",
      "                \"7\": \"irrigated sugar\",\n",
      "                \"8\": \"rainfed cropping\",\n",
      "                \"9\": \"rainfed pasture\",\n",
      "                \"10\": \"rainfed sugar\",\n",
      "                \"11\": \"wetlands\",\n",
      "                \"14\": \"tussock grasses - closed\",\n",
      "                \"15\": \"alpine grasses - open\",\n",
      "                \"16\": \"hummock grasses - closed\",\n",
      "                \"18\": \"tussock grasses - open\",\n",
      "                \"19\": \"shrubs and grasses - sparse-scattered\",\n",
      "                \"22\": \"hummock grasses - open\",\n",
      "                \"24\": \"shrubs - closed\",\n",
      "                \"25\": \"shrubs - open\",\n",
      "                \"31\": \"trees - closed\",\n",
      "                \"32\": \"trees - open\",\n",
      "                \"33\": \"trees - scattered\",\n",
      "                \"34\": \"trees - sparse\",\n",
      "                \"35\": \"built-up surface\"\n",
      "            },\n",
      "            \"by_groups\": {\n",
      "                \"crops\": [\n",
      "                    5,\n",
      "                    8\n",
      "                ],\n",
      "                \"grasses\": [\n",
      "                    14,\n",
      "                    15,\n",
      "                    16,\n",
      "                    18,\n",
      "                    19,\n",
      "                    22\n",
      "                ],\n",
      "                \"irrigated\": [\n",
      "                    5,\n",
      "                    6,\n",
      "                    7\n",
      "                ],\n",
      "                \"hummock grasses\": [\n",
      "                    16,\n",
      "                    22\n",
      "                ],\n",
      "                \"pastures\": [\n",
      "                    6,\n",
      "                    9\n",
      "                ],\n",
      "                \"rainfed\": [\n",
      "                    8,\n",
      "                    9,\n",
      "                    10\n",
      "                ],\n",
      "                \"shrubs\": [\n",
      "                    19,\n",
      "                    24,\n",
      "                    25\n",
      "                ],\n",
      "                \"sugars\": [\n",
      "                    7,\n",
      "                    10\n",
      "                ],\n",
      "                \"trees\": [\n",
      "                    31,\n",
      "                    32,\n",
      "                    33,\n",
      "                    34,\n",
      "                    35\n",
      "                ],\n",
      "                \"tussock grasses\": [\n",
      "                    14,\n",
      "                    18\n",
      "                ]\n",
      "            }\n",
      "        }\n",
      "    },\n",
      "    \"metadata\": {\n",
      "        \"service\": \"Dynamic Land Cover (dylancov) microservice\",\n",
      "        \"publisher\": \"ecoCommons Australia\",\n",
      "        \"date\": \"2020-10-05\",\n",
      "        \"license\": \"Attribution 4.0 International\"\n",
      "    }\n",
      "}\n"
     ]
    }
   ],
   "source": [
    "import requests\n",
    "import json\n",
    "\n",
    "response = requests.get(\"https://api.dylancov.bccvl.org.au/categories\")\n",
    "data = response.json()\n",
    "print(json.dumps(data, indent=4))"
   ]
  },
  {
   "cell_type": "markdown",
   "metadata": {},
   "source": [
    "Now we are ready to submit a request. Lets say that we want to extract a rectangular region of South-East Queensland and we only want to filter by trees and built-up surfaces. The request will like like this:"
   ]
  },
  {
   "cell_type": "code",
   "execution_count": 13,
   "metadata": {},
   "outputs": [
    {
     "data": {
      "text/plain": [
       "'ProcessAccepted'"
      ]
     },
     "execution_count": 13,
     "metadata": {},
     "output_type": "execute_result"
    }
   ],
   "source": [
    "processid = 'one_wps_process'\n",
    "inputs = [\n",
    "    (\"categories\", \"31, 32, 33, 34, 35\"), \n",
    "    (\"spatial_selection_type\", \"rectangular_region\"),\n",
    "    (\"lat_min\", \"-28.17702\"), (\"lat_max\", \"-26.33033\"),\n",
    "    (\"lon_min\", \"152.81753281\"), (\"lon_max\", \"153.55292\"),\n",
    "    (\"time_selection_type\", \"years\"),\n",
    "    (\"year_min\", \"2005\"), (\"year_max\", \"2014\") \n",
    "]\n",
    "output = \"OUTPUT\"\n",
    "execution = wps.execute(processid, inputs, output = \"OUTPUT\")\n",
    "execution.getStatus()"
   ]
  },
  {
   "cell_type": "code",
   "execution_count": 14,
   "metadata": {},
   "outputs": [
    {
     "name": "stdout",
     "output_type": "stream",
     "text": [
      "Execution status: PyWPS Process started\n",
      "Execution status: PyWPS Process started\n",
      "Execution status: years 3/20 (15%)\n",
      "Execution status: years 10/20 (50%)\n",
      "Execution status: years 16/20 (80%)\n",
      "Execution status: years 20/20 completed.\n",
      "Execution status: years 20/20 completed.\n",
      "Execution status: years 20/20 completed.\n",
      "Execution status: years 20/20 completed.\n",
      "Execution status: years 20/20 completed.\n",
      "Execution status: years 20/20 completed.\n",
      "Execution status: Response Generated\n",
      "Execution status: PyWPS Process Dynamic Land Cover (dylancov) combined process for multiple spatial and time selections. finished\n"
     ]
    }
   ],
   "source": [
    "monitor_execution(execution, sleepSecs=5, download=True, filepath='data/outputs/out20201006T0848.zip')"
   ]
  },
  {
   "cell_type": "markdown",
   "metadata": {},
   "source": [
    "### Zip Results"
   ]
  },
  {
   "cell_type": "code",
   "execution_count": 15,
   "metadata": {},
   "outputs": [],
   "source": [
    "filepath='data/outputs/out20201006T0848.zip'"
   ]
  },
  {
   "cell_type": "markdown",
   "metadata": {},
   "source": [
    "The result comes in a zip file. Lets examine the contents:"
   ]
  },
  {
   "cell_type": "code",
   "execution_count": 16,
   "metadata": {},
   "outputs": [
    {
     "name": "stdout",
     "output_type": "stream",
     "text": [
      "['dynamic_land_cover.csv', 'result.zarr', 'dynamic_land_cover.tif', 'metadata.json', 'result.csv', 'result.nc']\n"
     ]
    }
   ],
   "source": [
    "from zipfile import ZipFile\n",
    "\n",
    "f = ZipFile(filepath)\n",
    "print(f.namelist())\n",
    "f.close()"
   ]
  },
  {
   "cell_type": "markdown",
   "metadata": {},
   "source": [
    "## Process the NetCDF File"
   ]
  },
  {
   "cell_type": "markdown",
   "metadata": {},
   "source": [
    "Lets extract the result.nc (NetCDF) file, open it as an xarray dataset, and examine its contents."
   ]
  },
  {
   "cell_type": "code",
   "execution_count": 18,
   "metadata": {},
   "outputs": [
    {
     "data": {
      "text/plain": [
       "<xarray.Dataset>\n",
       "Dimensions:             (lat: 778, lon: 315, time: 10)\n",
       "Coordinates:\n",
       "  * lat                 (lat) float64 -28.17 -28.17 -28.17 ... -26.34 -26.34\n",
       "  * lon                 (lon) float64 152.8 152.8 152.8 ... 153.5 153.6 153.6\n",
       "  * time                (time) datetime64[ns] 2005-01-01 ... 2014-01-01\n",
       "Data variables:\n",
       "    dynamic_land_cover  (time, lat, lon) float64 31.0 31.0 31.0 ... 0.0 0.0 0.0\n",
       "Attributes:\n",
       "    geospatial_lat_min:         -28.173\n",
       "    geospatial_lat_max:         -26.336\n",
       "    geospatial_lat_units:       degrees_north\n",
       "    geospatial_lat_resolution:  0.01\n",
       "    geospatial_lon_min:         152.816\n",
       "    geospatial_lon_max:         153.554\n",
       "    geospatial_lon_units:       degrees_east\n",
       "    geospatial_lon_resolution:  0.01\n",
       "    DOI:                        to be added\n",
       "    license_data_access:        These data can be freely downloaded and used\n",
       "    keywords:                   EARTH SCIENCE > ENVIRONMENT\n",
       "    summary:                    Dynamic Land Cover sliced and filtered.\n",
       "    spatial_coverage:           Australia\n",
       "    acknowledgement:            The creation of this data was funded by ecoCo...\n",
       "    title:                      Dynamic Land Cover sliced and filtered.\n",
       "    institution:                Griffith University, Queensland\n",
       "    contributor_name:           Dylancov, ecoCommons\n",
       "    license:                    Attribution 4.0 International\n",
       "    cdm_data_type:              grid\n",
       "    contact:                    ecocommons@ecocommons.org.au\n",
       "    source:                     Australia Dynamic Land Cover Dataset v2.1.\n",
       "    date_created:               2020-10-05\n",
       "    publisher_name:             Dynamic Land Cover (dylancov) microservice, e...\n",
       "    publisher_url:              https://ecocommons.org.au\n",
       "    publisher_email:            ecocommons@ecocommons.org.au"
      ]
     },
     "execution_count": 18,
     "metadata": {},
     "output_type": "execute_result"
    }
   ],
   "source": [
    "import xarray as xr\n",
    "\n",
    "with ZipFile(filepath) as z:\n",
    "    res = z.extract('result.nc', path='workspace/data/outputs/')\n",
    "xds = xr.load_dataset(res)\n",
    "xds"
   ]
  },
  {
   "cell_type": "markdown",
   "metadata": {},
   "source": [
    "Notice the result is a cube, with 4 coordinates: lat, lon, time, band.\n",
    "    \n",
    "- lat: gives us the latitude range (an array of floats)\n",
    "- lon: gives us the longitude range (an array of float)\n",
    "- time: has 10 values, corresponding to the range of years 2005-2014\n",
    "\n",
    "The cube's data values are in the only one data variable, called `dynamic_land_cover`.\n",
    "\n",
    "There are also some metadata attributes to inform us of various things: license, publisher, etc"
   ]
  },
  {
   "cell_type": "code",
   "execution_count": 23,
   "metadata": {},
   "outputs": [
    {
     "data": {
      "text/plain": [
       "<matplotlib.collections.QuadMesh at 0x7f88885e7f98>"
      ]
     },
     "execution_count": 23,
     "metadata": {},
     "output_type": "execute_result"
    },
    {
     "data": {
      "image/png": "[encoded data removed]",
      "text/plain": [
       "<Figure size 432x288 with 2 Axes>"
      ]
     },
     "metadata": {
      "needs_background": "light"
     },
     "output_type": "display_data"
    }
   ],
   "source": [
    "import matplotlib.pyplot as plt\n",
    "\n",
    "xds['dynamic_land_cover'].sel({'time': '2014-01-01'}).plot()"
   ]
  },
  {
   "cell_type": "markdown",
   "metadata": {},
   "source": [
    "The map shows a section of South-East Queensland, between Sunshine Coast and Gold Coast, with Brisbane in the middle.\n",
    "\n",
    "The yellow values show build-up areas (value 35), \n",
    "and the pale greens show the presence of trees (values 31-34). \n",
    "The rest is zeroed out."
   ]
  },
  {
   "cell_type": "markdown",
   "metadata": {},
   "source": [
    "### Tiff Results"
   ]
  },
  {
   "cell_type": "code",
   "execution_count": 24,
   "metadata": {},
   "outputs": [
    {
     "data": {
      "text/plain": [
       "{'meta': {'driver': 'GTiff',\n",
       "  'dtype': 'float64',\n",
       "  'nodata': None,\n",
       "  'width': 315,\n",
       "  'height': 778,\n",
       "  'count': 10,\n",
       "  'crs': CRS.from_dict(init='epsg:4326'),\n",
       "  'transform': Affine(0.0023489999999999783, 0.0, 152.815223,\n",
       "         0.0, 0.002364115830115831, -28.17422055791506)},\n",
       " 'bounds': BoundingBox(left=152.815223, bottom=-26.334938442084944, right=153.555158, top=-28.17422055791506),\n",
       " 'resolution': (0.0023489999999999783, -0.002364115830115831),\n",
       " 'tags': <function DatasetReader.tags>,\n",
       " 'indexes': (1, 2, 3, 4, 5, 6, 7, 8, 9, 10),\n",
       " 'name': 'data/outputs/dynamic_land_cover.tif',\n",
       " 'mode': 'r'}"
      ]
     },
     "execution_count": 24,
     "metadata": {},
     "output_type": "execute_result"
    }
   ],
   "source": [
    "import rasterio as rio\n",
    "\n",
    "with ZipFile(filepath) as z:\n",
    "    tf = z.extract('dynamic_land_cover.tif', path='data/outputs')\n",
    "    rds = rio.open(tf)\n",
    "        \n",
    "data = {  # gather all the attrs together\n",
    "    'meta': rds.meta,\n",
    "    'bounds': rds.bounds,\n",
    "    'resolution': rds.res,\n",
    "    'tags': rds.tags, \n",
    "    'indexes': rds.indexes,\n",
    "    'name': rds.name, \n",
    "    'mode': rds.mode\n",
    "}\n",
    "data  "
   ]
  },
  {
   "cell_type": "code",
   "execution_count": 21,
   "metadata": {},
   "outputs": [
    {
     "data": {
      "text/plain": [
       "array([[31., 31., 31., ..., 33., 33.,  0.],\n",
       "       [31., 31., 31., ...,  0.,  0.,  0.],\n",
       "       [31., 31., 31., ..., 35.,  0., 34.],\n",
       "       ...,\n",
       "       [31., 31., 31., ...,  0.,  0.,  0.],\n",
       "       [31., 31., 31., ...,  0.,  0.,  0.],\n",
       "       [31., 31., 31., ...,  0.,  0.,  0.]])"
      ]
     },
     "execution_count": 21,
     "metadata": {},
     "output_type": "execute_result"
    }
   ],
   "source": [
    "rds.read(1)  # show some data from the first layer"
   ]
  },
  {
   "cell_type": "code",
   "execution_count": 22,
   "metadata": {},
   "outputs": [
    {
     "data": {
      "image/png": "[encoded data removed]",
      "text/plain": [
       "<Figure size 432x288 with 2 Axes>"
      ]
     },
     "metadata": {
      "needs_background": "light"
     },
     "output_type": "display_data"
    }
   ],
   "source": [
    "from matplotlib import pyplot\n",
    "axs = pyplot.imshow(rds.read(1), cmap='tab20', origin='lower',\n",
    "                    extent=(rds.bounds.left, rds.bounds.right, rds.bounds.top, rds.bounds.bottom))\n",
    "pyplot.colorbar(label='Dynamic Land Cover [categories]')\n",
    "pyplot.show()"
   ]
  },
  {
   "cell_type": "markdown",
   "metadata": {},
   "source": [
    "### Processing the CSV File"
   ]
  },
  {
   "cell_type": "code",
   "execution_count": 25,
   "metadata": {},
   "outputs": [
    {
     "data": {
      "text/html": [
       "<div>\n",
       "<style scoped>\n",
       "    .dataframe tbody tr th:only-of-type {\n",
       "        vertical-align: middle;\n",
       "    }\n",
       "\n",
       "    .dataframe tbody tr th {\n",
       "        vertical-align: top;\n",
       "    }\n",
       "\n",
       "    .dataframe thead th {\n",
       "        text-align: right;\n",
       "    }\n",
       "</style>\n",
       "<table border=\"1\" class=\"dataframe\">\n",
       "  <thead>\n",
       "    <tr style=\"text-align: right;\">\n",
       "      <th></th>\n",
       "      <th>lat</th>\n",
       "      <th>lon</th>\n",
       "      <th>time</th>\n",
       "      <th>dynamic_land_cover</th>\n",
       "    </tr>\n",
       "  </thead>\n",
       "  <tbody>\n",
       "    <tr>\n",
       "      <td>0</td>\n",
       "      <td>-28.173039</td>\n",
       "      <td>152.816398</td>\n",
       "      <td>2005-01-01</td>\n",
       "      <td>31.0</td>\n",
       "    </tr>\n",
       "    <tr>\n",
       "      <td>1</td>\n",
       "      <td>-28.173039</td>\n",
       "      <td>152.816398</td>\n",
       "      <td>2006-01-01</td>\n",
       "      <td>31.0</td>\n",
       "    </tr>\n",
       "    <tr>\n",
       "      <td>2</td>\n",
       "      <td>-28.173039</td>\n",
       "      <td>152.816398</td>\n",
       "      <td>2007-01-01</td>\n",
       "      <td>31.0</td>\n",
       "    </tr>\n",
       "    <tr>\n",
       "      <td>3</td>\n",
       "      <td>-28.173039</td>\n",
       "      <td>152.816398</td>\n",
       "      <td>2008-01-01</td>\n",
       "      <td>31.0</td>\n",
       "    </tr>\n",
       "    <tr>\n",
       "      <td>4</td>\n",
       "      <td>-28.173039</td>\n",
       "      <td>152.816398</td>\n",
       "      <td>2009-01-01</td>\n",
       "      <td>31.0</td>\n",
       "    </tr>\n",
       "  </tbody>\n",
       "</table>\n",
       "</div>"
      ],
      "text/plain": [
       "         lat         lon        time  dynamic_land_cover\n",
       "0 -28.173039  152.816398  2005-01-01                31.0\n",
       "1 -28.173039  152.816398  2006-01-01                31.0\n",
       "2 -28.173039  152.816398  2007-01-01                31.0\n",
       "3 -28.173039  152.816398  2008-01-01                31.0\n",
       "4 -28.173039  152.816398  2009-01-01                31.0"
      ]
     },
     "execution_count": 25,
     "metadata": {},
     "output_type": "execute_result"
    }
   ],
   "source": [
    "import pandas as pd\n",
    "\n",
    "with ZipFile(filepath) as z:\n",
    "    with z.open('result.csv') as zf:\n",
    "        df = pd.read_csv(zf)\n",
    "df.head()"
   ]
  },
  {
   "cell_type": "markdown",
   "metadata": {},
   "source": [
    "### Metadata"
   ]
  },
  {
   "cell_type": "markdown",
   "metadata": {},
   "source": [
    "The metadata file shows the input parameters used by the process."
   ]
  },
  {
   "cell_type": "code",
   "execution_count": 26,
   "metadata": {},
   "outputs": [
    {
     "name": "stdout",
     "output_type": "stream",
     "text": [
      "{\n",
      "    \"categories\": {\n",
      "        \"indices\": [\n",
      "            32,\n",
      "            33,\n",
      "            34,\n",
      "            35,\n",
      "            31\n",
      "        ],\n",
      "        \"selected\": {\n",
      "            \"32\": \"trees - open\",\n",
      "            \"33\": \"trees - scattered\",\n",
      "            \"34\": \"trees - sparse\",\n",
      "            \"35\": \"built-up surface\",\n",
      "            \"31\": \"trees - closed\"\n",
      "        }\n",
      "    },\n",
      "    \"spatial_selection_type\": \"rectangular_region\",\n",
      "    \"temporal_selection_type\": \"years\",\n",
      "    \"time_selection\": {\n",
      "        \"yrs\": [\n",
      "            2005,\n",
      "            2014\n",
      "        ]\n",
      "    },\n",
      "    \"bounds\": {\n",
      "        \"lat_min\": -28.175,\n",
      "        \"lat_max\": -26.335,\n",
      "        \"lon_min\": 152.815,\n",
      "        \"lon_max\": 153.555\n",
      "    }\n",
      "}\n"
     ]
    }
   ],
   "source": [
    "import json\n",
    "\n",
    "with ZipFile(filepath) as z:\n",
    "    with z.open('metadata.json') as zf:\n",
    "        data = json.load(zf)\n",
    "        print(json.dumps(data, indent=4))"
   ]
  },
  {
   "cell_type": "markdown",
   "metadata": {},
   "source": [
    "## Single Location Selection"
   ]
  },
  {
   "cell_type": "code",
   "execution_count": 27,
   "metadata": {},
   "outputs": [
    {
     "data": {
      "text/plain": [
       "'ProcessAccepted'"
      ]
     },
     "execution_count": 27,
     "metadata": {},
     "output_type": "execute_result"
    }
   ],
   "source": [
    "processid = 'one_wps_process'\n",
    "inputs = [\n",
    "    (\"categories\", \"31, 32, 33, 34, 35\"), \n",
    "    (\"spatial_selection_type\", \"single_location\"),\n",
    "    (\"lat\", \"-27.784490\"), (\"lon\", \"153.261301\"),\n",
    "    (\"time_selection_type\", \"years\"),\n",
    "    (\"year_min\", \"2005\"), (\"year_max\", \"2014\")  \n",
    "]\n",
    "output = \"OUTPUT\"\n",
    "execution = wps.execute(processid, inputs, output = \"OUTPUT\")\n",
    "execution.getStatus()"
   ]
  },
  {
   "cell_type": "code",
   "execution_count": 28,
   "metadata": {},
   "outputs": [
    {
     "name": "stdout",
     "output_type": "stream",
     "text": [
      "Execution status: PyWPS Process started\n",
      "Execution status: years 8/10 (80%)\n",
      "Execution status: PyWPS Process Dynamic Land Cover (dylancov) combined process for multiple spatial and time selections. finished\n"
     ]
    }
   ],
   "source": [
    "monitor_execution(execution, sleepSecs=10, download=True, filepath='data/outputs/out20201006T0943.zip')"
   ]
  },
  {
   "cell_type": "code",
   "execution_count": 29,
   "metadata": {},
   "outputs": [],
   "source": [
    "filepath='data/outputs/out20201006T0943.zip'"
   ]
  },
  {
   "cell_type": "markdown",
   "metadata": {},
   "source": [
    "### Zip Results"
   ]
  },
  {
   "cell_type": "code",
   "execution_count": 30,
   "metadata": {},
   "outputs": [
    {
     "name": "stdout",
     "output_type": "stream",
     "text": [
      "['dynamic_land_cover.csv', 'dynamic_land_cover.png', 'metadata.json', 'result.csv', 'result.nc']\n"
     ]
    }
   ],
   "source": [
    "from zipfile import ZipFile\n",
    "\n",
    "with ZipFile(filepath) as f:\n",
    "    print(f.namelist())"
   ]
  },
  {
   "cell_type": "markdown",
   "metadata": {},
   "source": [
    "### Metadata"
   ]
  },
  {
   "cell_type": "code",
   "execution_count": 31,
   "metadata": {},
   "outputs": [
    {
     "name": "stdout",
     "output_type": "stream",
     "text": [
      "{\n",
      "    \"categories\": {\n",
      "        \"indices\": [\n",
      "            32,\n",
      "            33,\n",
      "            34,\n",
      "            35,\n",
      "            31\n",
      "        ],\n",
      "        \"selected\": {\n",
      "            \"32\": \"trees - open\",\n",
      "            \"33\": \"trees - scattered\",\n",
      "            \"34\": \"trees - sparse\",\n",
      "            \"35\": \"built-up surface\",\n",
      "            \"31\": \"trees - closed\"\n",
      "        }\n",
      "    },\n",
      "    \"spatial_selection_type\": \"single_location\",\n",
      "    \"temporal_selection_type\": \"years\",\n",
      "    \"time_selection\": {\n",
      "        \"yrs\": [\n",
      "            2005,\n",
      "            2014\n",
      "        ]\n",
      "    },\n",
      "    \"coords\": {\n",
      "        \"lat\": -27.785,\n",
      "        \"lon\": 153.265\n",
      "    }\n",
      "}\n"
     ]
    }
   ],
   "source": [
    "import json\n",
    "\n",
    "with ZipFile(filepath) as z:\n",
    "    with z.open('metadata.json') as zf:\n",
    "        data = json.load(zf)\n",
    "        print(json.dumps(data, indent=4))"
   ]
  },
  {
   "cell_type": "markdown",
   "metadata": {},
   "source": [
    "### NetCDF Results"
   ]
  },
  {
   "cell_type": "code",
   "execution_count": 32,
   "metadata": {},
   "outputs": [
    {
     "data": {
      "text/plain": [
       "<xarray.Dataset>\n",
       "Dimensions:             (time: 10)\n",
       "Coordinates:\n",
       "  * time                (time) datetime64[ns] 2005-01-01 ... 2014-01-01\n",
       "    lat                 float64 -27.79\n",
       "    lon                 float64 153.3\n",
       "Data variables:\n",
       "    dynamic_land_cover  (time) float64 0.0 34.0 34.0 34.0 ... 34.0 34.0 0.0 0.0\n",
       "Attributes:\n",
       "    geospatial_lat_min:         -27.785\n",
       "    geospatial_lat_max:         -27.785\n",
       "    geospatial_lat_units:       degrees_north\n",
       "    geospatial_lat_resolution:  0.01\n",
       "    geospatial_lon_min:         153.265\n",
       "    geospatial_lon_max:         153.265\n",
       "    geospatial_lon_units:       degrees_east\n",
       "    geospatial_lon_resolution:  0.01\n",
       "    DOI:                        to be added\n",
       "    license_data_access:        These data can be freely downloaded and used\n",
       "    keywords:                   EARTH SCIENCE > ENVIRONMENT\n",
       "    summary:                    Dynamic Land Cover sliced and filtered.\n",
       "    spatial_coverage:           Australia\n",
       "    acknowledgement:            The creation of this data was funded by ecoCo...\n",
       "    title:                      Dynamic Land Cover sliced and filtered.\n",
       "    institution:                Griffith University, Queensland\n",
       "    contributor_name:           Dylancov, ecoCommons\n",
       "    license:                    Attribution 4.0 International\n",
       "    cdm_data_type:              grid\n",
       "    contact:                    ecocommons@ecocommons.org.au\n",
       "    source:                     Australia Dynamic Land Cover Dataset v2.1.\n",
       "    date_created:               2020-10-05\n",
       "    publisher_name:             Dynamic Land Cover (dylancov) microservice, e...\n",
       "    publisher_url:              https://ecocommons.org.au\n",
       "    publisher_email:            ecocommons@ecocommons.org.au"
      ]
     },
     "execution_count": 32,
     "metadata": {},
     "output_type": "execute_result"
    }
   ],
   "source": [
    "import xarray as xr\n",
    "\n",
    "with ZipFile(filepath) as z:\n",
    "    res = z.extract('result.nc', path='workspace/data/outputs/')\n",
    "xds = xr.load_dataset(res)\n",
    "xds"
   ]
  },
  {
   "cell_type": "code",
   "execution_count": 33,
   "metadata": {},
   "outputs": [
    {
     "data": {
      "text/plain": [
       "[<matplotlib.lines.Line2D at 0x7f88885417f0>]"
      ]
     },
     "execution_count": 33,
     "metadata": {},
     "output_type": "execute_result"
    },
    {
     "data": {
      "image/png": "[encoded data removed]",
      "text/plain": [
       "<Figure size 432x288 with 1 Axes>"
      ]
     },
     "metadata": {
      "needs_background": "light"
     },
     "output_type": "display_data"
    }
   ],
   "source": [
    "xds['dynamic_land_cover'].plot()"
   ]
  },
  {
   "cell_type": "markdown",
   "metadata": {},
   "source": [
    "### CSV Results"
   ]
  },
  {
   "cell_type": "code",
   "execution_count": 34,
   "metadata": {},
   "outputs": [
    {
     "data": {
      "text/html": [
       "<div>\n",
       "<style scoped>\n",
       "    .dataframe tbody tr th:only-of-type {\n",
       "        vertical-align: middle;\n",
       "    }\n",
       "\n",
       "    .dataframe tbody tr th {\n",
       "        vertical-align: top;\n",
       "    }\n",
       "\n",
       "    .dataframe thead th {\n",
       "        text-align: right;\n",
       "    }\n",
       "</style>\n",
       "<table border=\"1\" class=\"dataframe\">\n",
       "  <thead>\n",
       "    <tr style=\"text-align: right;\">\n",
       "      <th></th>\n",
       "      <th>time</th>\n",
       "      <th>lat</th>\n",
       "      <th>lon</th>\n",
       "      <th>dynamic_land_cover</th>\n",
       "    </tr>\n",
       "  </thead>\n",
       "  <tbody>\n",
       "    <tr>\n",
       "      <td>0</td>\n",
       "      <td>2005-01-01</td>\n",
       "      <td>-27.785453</td>\n",
       "      <td>153.265056</td>\n",
       "      <td>0.0</td>\n",
       "    </tr>\n",
       "    <tr>\n",
       "      <td>1</td>\n",
       "      <td>2006-01-01</td>\n",
       "      <td>-27.785453</td>\n",
       "      <td>153.265056</td>\n",
       "      <td>34.0</td>\n",
       "    </tr>\n",
       "    <tr>\n",
       "      <td>2</td>\n",
       "      <td>2007-01-01</td>\n",
       "      <td>-27.785453</td>\n",
       "      <td>153.265056</td>\n",
       "      <td>34.0</td>\n",
       "    </tr>\n",
       "    <tr>\n",
       "      <td>3</td>\n",
       "      <td>2008-01-01</td>\n",
       "      <td>-27.785453</td>\n",
       "      <td>153.265056</td>\n",
       "      <td>34.0</td>\n",
       "    </tr>\n",
       "    <tr>\n",
       "      <td>4</td>\n",
       "      <td>2009-01-01</td>\n",
       "      <td>-27.785453</td>\n",
       "      <td>153.265056</td>\n",
       "      <td>34.0</td>\n",
       "    </tr>\n",
       "  </tbody>\n",
       "</table>\n",
       "</div>"
      ],
      "text/plain": [
       "         time        lat         lon  dynamic_land_cover\n",
       "0  2005-01-01 -27.785453  153.265056                 0.0\n",
       "1  2006-01-01 -27.785453  153.265056                34.0\n",
       "2  2007-01-01 -27.785453  153.265056                34.0\n",
       "3  2008-01-01 -27.785453  153.265056                34.0\n",
       "4  2009-01-01 -27.785453  153.265056                34.0"
      ]
     },
     "execution_count": 34,
     "metadata": {},
     "output_type": "execute_result"
    }
   ],
   "source": [
    "import pandas as pd\n",
    "\n",
    "with ZipFile(filepath) as z:\n",
    "    with z.open('result.csv') as zf:\n",
    "        df = pd.read_csv(zf)\n",
    "df.head()"
   ]
  },
  {
   "cell_type": "code",
   "execution_count": 35,
   "metadata": {},
   "outputs": [
    {
     "data": {
      "text/plain": [
       "<matplotlib.axes._subplots.AxesSubplot at 0x7f88884b2c50>"
      ]
     },
     "execution_count": 35,
     "metadata": {},
     "output_type": "execute_result"
    },
    {
     "data": {
      "image/png": "[encoded data removed]",
      "text/plain": [
       "<Figure size 432x288 with 1 Axes>"
      ]
     },
     "metadata": {
      "needs_background": "light"
     },
     "output_type": "display_data"
    }
   ],
   "source": [
    "df.plot('time', ['dynamic_land_cover'], kind='line', title='Dynamic Land Cover', grid=True)"
   ]
  },
  {
   "cell_type": "markdown",
   "metadata": {},
   "source": [
    "### Show PNG File"
   ]
  },
  {
   "cell_type": "code",
   "execution_count": 36,
   "metadata": {},
   "outputs": [
    {
     "data": {
      "image/png": "[encoded data removed]",
      "text/plain": [
       "<IPython.core.display.Image object>"
      ]
     },
     "metadata": {
      "image/png": {
       "height": 400,
       "width": 600
      }
     },
     "output_type": "display_data"
    }
   ],
   "source": [
    "from IPython.display import Image, display\n",
    "\n",
    "with ZipFile(filepath) as z:\n",
    "    fp = z.extract('dynamic_land_cover.png', 'data/outputs')\n",
    "    display(Image(fp, width=600, height=400)) "
   ]
  },
  {
   "cell_type": "markdown",
   "metadata": {},
   "source": [
    "### Predefined Region Selection"
   ]
  },
  {
   "cell_type": "code",
   "execution_count": 37,
   "metadata": {},
   "outputs": [
    {
     "data": {
      "text/plain": [
       "'ProcessAccepted'"
      ]
     },
     "execution_count": 37,
     "metadata": {},
     "output_type": "execute_result"
    }
   ],
   "source": [
    "processid = 'one_wps_process'\n",
    "inputs = [\n",
    "    (\"categories\", \"31, 32, 33, 34, 35\"),\n",
    "    (\"spatial_selection_type\", \"predefined_region\"),\n",
    "    (\"gdb_name\", \"ibra7_subregions_states\"), \n",
    "    (\"rec_id\", \"347_QLD\"),\n",
    "    (\"time_selection_type\", \"one_year\"),\n",
    "    (\"year\", \"2014\"), \n",
    "]\n",
    "output = \"OUTPUT\"\n",
    "execution = wps.execute(processid, inputs, output = \"OUTPUT\")\n",
    "execution.getStatus()"
   ]
  },
  {
   "cell_type": "code",
   "execution_count": 38,
   "metadata": {},
   "outputs": [
    {
     "name": "stdout",
     "output_type": "stream",
     "text": [
      "Execution status: PyWPS Process started\n",
      "Execution status: one_year 2/2 completed.\n",
      "Execution status: PyWPS Process Dynamic Land Cover (dylancov) combined process for multiple spatial and time selections. finished\n"
     ]
    }
   ],
   "source": [
    "monitor_execution(execution, sleepSecs=5, download=True, filepath='data/outputs/out20201006T0950.zip')"
   ]
  },
  {
   "cell_type": "markdown",
   "metadata": {},
   "source": [
    "### Zip Results"
   ]
  },
  {
   "cell_type": "code",
   "execution_count": 47,
   "metadata": {},
   "outputs": [],
   "source": [
    "filepath2='data/outputs/out20201006T0950.zip'"
   ]
  },
  {
   "cell_type": "code",
   "execution_count": 40,
   "metadata": {},
   "outputs": [
    {
     "name": "stdout",
     "output_type": "stream",
     "text": [
      "['dynamic_land_cover.csv', 'result.zarr', 'dynamic_land_cover.tif', 'metadata.json', 'result.csv', 'result.nc']\n"
     ]
    }
   ],
   "source": [
    "from zipfile import ZipFile\n",
    "f = ZipFile(filepath)\n",
    "print(f.namelist())\n",
    "f.close()"
   ]
  },
  {
   "cell_type": "markdown",
   "metadata": {},
   "source": [
    "### NetCDF Result"
   ]
  },
  {
   "cell_type": "code",
   "execution_count": 41,
   "metadata": {},
   "outputs": [
    {
     "data": {
      "text/plain": [
       "<xarray.Dataset>\n",
       "Dimensions:             (lat: 782, lon: 313, time: 1)\n",
       "Coordinates:\n",
       "  * lat                 (lat) float64 -28.18 -28.17 -28.17 ... -26.33 -26.33\n",
       "  * lon                 (lon) float64 152.8 152.8 152.8 ... 153.5 153.5 153.6\n",
       "  * time                (time) datetime64[ns] 2014-01-01\n",
       "    spatial_ref         int32 0\n",
       "Data variables:\n",
       "    dynamic_land_cover  (time, lat, lon) float64 nan nan nan nan ... nan nan nan\n",
       "Attributes:\n",
       "    geospatial_lat_min:         -28.175\n",
       "    geospatial_lat_max:         -26.331\n",
       "    geospatial_lat_units:       degrees_north\n",
       "    geospatial_lat_resolution:  0.01\n",
       "    geospatial_lon_min:         152.819\n",
       "    geospatial_lon_max:         153.552\n",
       "    geospatial_lon_units:       degrees_east\n",
       "    geospatial_lon_resolution:  0.01\n",
       "    DOI:                        to be added\n",
       "    license_data_access:        These data can be freely downloaded and used\n",
       "    keywords:                   EARTH SCIENCE > ENVIRONMENT\n",
       "    summary:                    Dynamic Land Cover sliced and filtered.\n",
       "    spatial_coverage:           Australia\n",
       "    acknowledgement:            The creation of this data was funded by ecoCo...\n",
       "    title:                      Dynamic Land Cover sliced and filtered.\n",
       "    institution:                Griffith University, Queensland\n",
       "    contributor_name:           Dylancov, ecoCommons\n",
       "    license:                    Attribution 4.0 International\n",
       "    cdm_data_type:              grid\n",
       "    contact:                    ecocommons@ecocommons.org.au\n",
       "    source:                     Australia Dynamic Land Cover Dataset v2.1.\n",
       "    date_created:               2020-10-05\n",
       "    publisher_name:             Dynamic Land Cover (dylancov) microservice, e...\n",
       "    publisher_url:              https://ecocommons.org.au\n",
       "    publisher_email:            ecocommons@ecocommons.org.au\n",
       "    grid_mapping:               spatial_ref"
      ]
     },
     "execution_count": 41,
     "metadata": {},
     "output_type": "execute_result"
    }
   ],
   "source": [
    "import xarray as xr\n",
    "\n",
    "with ZipFile(filepath) as z:\n",
    "    res = z.extract('result.nc', path='workspace/data/outputs/')\n",
    "xds = xr.load_dataset(res)\n",
    "xds"
   ]
  },
  {
   "cell_type": "code",
   "execution_count": 42,
   "metadata": {},
   "outputs": [
    {
     "data": {
      "text/plain": [
       "<matplotlib.collections.QuadMesh at 0x7f888840d470>"
      ]
     },
     "execution_count": 42,
     "metadata": {},
     "output_type": "execute_result"
    },
    {
     "data": {
      "image/png": "[encoded data removed]",
      "text/plain": [
       "<Figure size 432x288 with 2 Axes>"
      ]
     },
     "metadata": {
      "needs_background": "light"
     },
     "output_type": "display_data"
    }
   ],
   "source": [
    "xds['dynamic_land_cover'].sel({'time': '2014-01-01'}).plot()"
   ]
  },
  {
   "cell_type": "markdown",
   "metadata": {},
   "source": [
    "## Hand-drawn Polygon Selection¶"
   ]
  },
  {
   "cell_type": "code",
   "execution_count": 53,
   "metadata": {},
   "outputs": [
    {
     "data": {
      "image/svg+xml": [
       "<svg xmlns=\"http://www.w3.org/2000/svg\" xmlns:xlink=\"http://www.w3.org/1999/xlink\" width=\"100.0\" height=\"100.0\" viewBox=\"149.92499999999998 -29.084999999999997 2.160000000000025 2.1599999999999966\" preserveAspectRatio=\"xMinYMin meet\"><g transform=\"matrix(1,0,0,-1,0,-56.01)\"><path fill-rule=\"evenodd\" fill=\"#66cc99\" stroke=\"#555555\" stroke-width=\"0.0432000000000005\" opacity=\"0.6\" d=\"M 150.005,-29.005 L 150.005,-27.005 L 152.005,-27.005 L 152.005,-29.005 L 150.005,-29.005 z M 150.67166666666665,-28.33833333333333 L 151.33833333333334,-28.33833333333333 L 151.33833333333334,-27.671666666666667 L 150.67166666666665,-27.671666666666667 L 150.67166666666665,-28.33833333333333 z M 150.225,-28.785 L 150.445,-28.785 L 150.445,-28.564999999999998 L 150.225,-28.564999999999998 L 150.225,-28.785 z M 150.89166666666665,-28.785 L 151.11166666666665,-28.785 L 151.11166666666665,-28.564999999999998 L 150.89166666666665,-28.564999999999998 L 150.89166666666665,-28.785 z M 151.55833333333334,-28.785 L 151.77833333333334,-28.785 L 151.77833333333334,-28.564999999999998 L 151.55833333333334,-28.564999999999998 L 151.55833333333334,-28.785 z M 151.55833333333334,-28.118333333333332 L 151.77833333333334,-28.118333333333332 L 151.77833333333334,-27.898333333333333 L 151.55833333333334,-27.898333333333333 L 151.55833333333334,-28.118333333333332 z M 151.55833333333334,-27.451666666666664 L 151.77833333333334,-27.451666666666664 L 151.77833333333334,-27.231666666666666 L 151.55833333333334,-27.231666666666666 L 151.55833333333334,-27.451666666666664 z M 150.89166666666665,-27.451666666666664 L 151.11166666666665,-27.451666666666664 L 151.11166666666665,-27.231666666666666 L 150.89166666666665,-27.231666666666666 L 150.89166666666665,-27.451666666666664 z M 150.225,-27.451666666666664 L 150.445,-27.451666666666664 L 150.445,-27.231666666666666 L 150.225,-27.231666666666666 L 150.225,-27.451666666666664 z M 150.225,-28.118333333333332 L 150.445,-28.118333333333332 L 150.445,-27.898333333333333 L 150.225,-27.898333333333333 L 150.225,-28.118333333333332 z\" /></g></svg>"
      ],
      "text/plain": [
       "<shapely.geometry.polygon.Polygon at 0x7f8888395fd0>"
      ]
     },
     "execution_count": 53,
     "metadata": {},
     "output_type": "execute_result"
    }
   ],
   "source": [
    "from shapely import wkt\n",
    "\n",
    "with open(\"data/polygons/rect_holes.wkt\", \"r\") as f:\n",
    "    rect_holes_geom = wkt.loads(f.read())\n",
    "rect_holes_geom "
   ]
  },
  {
   "cell_type": "code",
   "execution_count": 54,
   "metadata": {},
   "outputs": [
    {
     "data": {
      "text/plain": [
       "'POLYGON ((150.005 -29.005, 150.005 -27.005, 152.005 -27.005, 152.005 -29.005, 150.005 -29.005), (150.6716666666667 -28.33833333333333, 151.3383333333333 -28.33833333333333, 151.3383333333333 -27.67166666666667, 150.6716666666667 -27.67166666666667, 150.6716666666667 -28.33833333333333), (150.225 -28.785, 150.445 -28.785, 150.445 -28.565, 150.225 -28.565, 150.225 -28.785), (150.8916666666667 -28.785, 151.1116666666667 -28.785, 151.1116666666667 -28.565, 150.8916666666667 -28.565, 150.891666666666'"
      ]
     },
     "execution_count": 54,
     "metadata": {},
     "output_type": "execute_result"
    }
   ],
   "source": [
    "rect_holes_geom.wkt[:500]"
   ]
  },
  {
   "cell_type": "code",
   "execution_count": 55,
   "metadata": {},
   "outputs": [
    {
     "data": {
      "text/plain": [
       "'ProcessAccepted'"
      ]
     },
     "execution_count": 55,
     "metadata": {},
     "output_type": "execute_result"
    }
   ],
   "source": [
    "processid = 'one_wps_process'\n",
    "inputs = [\n",
    "    (\"categories\", \"31, 32, 33, 34, 35\"),\n",
    "    (\"spatial_selection_type\", \"polygon\"),\n",
    "    (\"geometry\", rect_holes_geom.wkt), \n",
    "    (\"time_selection_type\", \"one_year\"),\n",
    "    (\"year\", \"2014\")\n",
    "]\n",
    "output = \"OUTPUT\"\n",
    "execution = wps.execute(processid, inputs, output = \"OUTPUT\")\n",
    "execution.getStatus()"
   ]
  },
  {
   "cell_type": "code",
   "execution_count": 56,
   "metadata": {},
   "outputs": [
    {
     "name": "stdout",
     "output_type": "stream",
     "text": [
      "Execution status: PyWPS Process started\n",
      "Execution status: one_year 4/4 completed.\n",
      "Execution status: one_year 4/4 completed.\n",
      "Execution status: PyWPS Process Dynamic Land Cover (dylancov) combined process for multiple spatial and time selections. finished\n"
     ]
    }
   ],
   "source": [
    "monitor_execution(execution, sleepSecs=5, download=True, filepath='data/outputs/out20201006T1000.zip')"
   ]
  },
  {
   "cell_type": "markdown",
   "metadata": {},
   "source": [
    "### Zip Contents"
   ]
  },
  {
   "cell_type": "code",
   "execution_count": 57,
   "metadata": {},
   "outputs": [
    {
     "name": "stdout",
     "output_type": "stream",
     "text": [
      "['dynamic_land_cover.csv', 'result.zarr', 'dynamic_land_cover.tif', 'metadata.json', 'result.csv', 'result.nc']\n"
     ]
    }
   ],
   "source": [
    "filepath='data/outputs/out20201006T1000.zip'\n",
    "\n",
    "from zipfile import ZipFile\n",
    "\n",
    "f = ZipFile(filepath)\n",
    "print(f.namelist())\n",
    "f.close()"
   ]
  },
  {
   "cell_type": "code",
   "execution_count": 59,
   "metadata": {},
   "outputs": [
    {
     "data": {
      "text/plain": [
       "<xarray.Dataset>\n",
       "Dimensions:             (lat: 848, lon: 846, time: 1)\n",
       "Coordinates:\n",
       "  * lat                 (lat) float64 -29.0 -29.0 -29.0 ... -27.01 -27.01 -27.01\n",
       "  * lon                 (lon) float64 150.0 150.0 150.0 ... 152.0 152.0 152.0\n",
       "  * time                (time) datetime64[ns] 2014-01-01\n",
       "    spatial_ref         int32 0\n",
       "Data variables:\n",
       "    dynamic_land_cover  (time, lat, lon) float64 0.0 0.0 0.0 ... 31.0 31.0 31.0\n",
       "Attributes:\n",
       "    geospatial_lat_min:         -29.005\n",
       "    geospatial_lat_max:         -27.006\n",
       "    geospatial_lat_units:       degrees_north\n",
       "    geospatial_lat_resolution:  0.01\n",
       "    geospatial_lon_min:         150.007\n",
       "    geospatial_lon_max:         152.004\n",
       "    geospatial_lon_units:       degrees_east\n",
       "    geospatial_lon_resolution:  0.01\n",
       "    DOI:                        to be added\n",
       "    license_data_access:        These data can be freely downloaded and used\n",
       "    keywords:                   EARTH SCIENCE > ENVIRONMENT\n",
       "    summary:                    Dynamic Land Cover sliced and filtered.\n",
       "    spatial_coverage:           Australia\n",
       "    acknowledgement:            The creation of this data was funded by ecoCo...\n",
       "    title:                      Dynamic Land Cover sliced and filtered.\n",
       "    institution:                Griffith University, Queensland\n",
       "    contributor_name:           Dylancov, ecoCommons\n",
       "    license:                    Attribution 4.0 International\n",
       "    cdm_data_type:              grid\n",
       "    contact:                    ecocommons@ecocommons.org.au\n",
       "    source:                     Australia Dynamic Land Cover Dataset v2.1.\n",
       "    date_created:               2020-10-06\n",
       "    publisher_name:             Dynamic Land Cover (dylancov) microservice, e...\n",
       "    publisher_url:              https://ecocommons.org.au\n",
       "    publisher_email:            ecocommons@ecocommons.org.au\n",
       "    grid_mapping:               spatial_ref"
      ]
     },
     "execution_count": 59,
     "metadata": {},
     "output_type": "execute_result"
    }
   ],
   "source": [
    "import xarray as xr\n",
    "\n",
    "with ZipFile(filepath) as z:\n",
    "    res = z.extract('result.nc', path='workspace/data/outputs/')\n",
    "xds = xr.load_dataset(res)\n",
    "xds"
   ]
  },
  {
   "cell_type": "code",
   "execution_count": 60,
   "metadata": {},
   "outputs": [
    {
     "data": {
      "text/plain": [
       "<matplotlib.collections.QuadMesh at 0x7f888820bef0>"
      ]
     },
     "execution_count": 60,
     "metadata": {},
     "output_type": "execute_result"
    },
    {
     "data": {
      "image/png": "[encoded data removed]",
      "text/plain": [
       "<Figure size 432x288 with 2 Axes>"
      ]
     },
     "metadata": {
      "needs_background": "light"
     },
     "output_type": "display_data"
    }
   ],
   "source": [
    "xds['dynamic_land_cover'].plot()"
   ]
  },
  {
   "cell_type": "code",
   "execution_count": null,
   "metadata": {},
   "outputs": [],
   "source": []
  }
 ],
 "metadata": {
  "kernelspec": {
   "display_name": "Python [conda env:py36]",
   "language": "python",
   "name": "conda-env-py36-py"
  },
  "language_info": {
   "codemirror_mode": {
    "name": "ipython",
    "version": 3
   },
   "file_extension": ".py",
   "mimetype": "text/x-python",
   "name": "python",
   "nbconvert_exporter": "python",
   "pygments_lexer": "ipython3",
   "version": "3.6.9"
  }
 },
 "nbformat": 4,
 "nbformat_minor": 4
}
